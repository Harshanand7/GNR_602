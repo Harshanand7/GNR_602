{
  "metadata": {
    "kernelspec": {
      "display_name": "Python 3",
      "name": "python3"
    },
    "language_info": {
      "pygments_lexer": "ipython3",
      "nbconvert_exporter": "python",
      "version": "3.6.4",
      "file_extension": ".py",
      "codemirror_mode": {
        "name": "ipython",
        "version": 3
      },
      "name": "python",
      "mimetype": "text/x-python"
    },
    "kaggle": {
      "accelerator": "none",
      "dataSources": [
        {
          "sourceId": 14231,
          "sourceType": "datasetVersion",
          "datasetId": 9970
        }
      ],
      "dockerImageVersionId": 648,
      "isInternetEnabled": false,
      "language": "python",
      "sourceType": "notebook",
      "isGpuEnabled": false
    },
    "colab": {
      "provenance": [],
      "gpuType": "T4",
      "include_colab_link": true
    },
    "accelerator": "GPU",
    "widgets": {
      "application/vnd.jupyter.widget-state+json": {
        "56ea84aa0dfe4890934a27071eb29f76": {
          "model_module": "@jupyter-widgets/controls",
          "model_name": "HTMLModel",
          "model_module_version": "1.5.0",
          "state": {
            "_dom_classes": [],
            "_model_module": "@jupyter-widgets/controls",
            "_model_module_version": "1.5.0",
            "_model_name": "HTMLModel",
            "_view_count": null,
            "_view_module": "@jupyter-widgets/controls",
            "_view_module_version": "1.5.0",
            "_view_name": "HTMLView",
            "description": "",
            "description_tooltip": null,
            "layout": "IPY_MODEL_dfe55c63b06b4d69afdf513c76e9b1b8",
            "placeholder": "​",
            "style": "IPY_MODEL_6e3c9a36a7cb481c84fbd744c396ca01",
            "value": "\n<style>\n.widget-label { font-weight: bold !important; color: #2B547E !important; }\n</style>\n"
          }
        },
        "dfe55c63b06b4d69afdf513c76e9b1b8": {
          "model_module": "@jupyter-widgets/base",
          "model_name": "LayoutModel",
          "model_module_version": "1.2.0",
          "state": {
            "_model_module": "@jupyter-widgets/base",
            "_model_module_version": "1.2.0",
            "_model_name": "LayoutModel",
            "_view_count": null,
            "_view_module": "@jupyter-widgets/base",
            "_view_module_version": "1.2.0",
            "_view_name": "LayoutView",
            "align_content": null,
            "align_items": null,
            "align_self": null,
            "border": null,
            "bottom": null,
            "display": null,
            "flex": null,
            "flex_flow": null,
            "grid_area": null,
            "grid_auto_columns": null,
            "grid_auto_flow": null,
            "grid_auto_rows": null,
            "grid_column": null,
            "grid_gap": null,
            "grid_row": null,
            "grid_template_areas": null,
            "grid_template_columns": null,
            "grid_template_rows": null,
            "height": null,
            "justify_content": null,
            "justify_items": null,
            "left": null,
            "margin": null,
            "max_height": null,
            "max_width": null,
            "min_height": null,
            "min_width": null,
            "object_fit": null,
            "object_position": null,
            "order": null,
            "overflow": null,
            "overflow_x": null,
            "overflow_y": null,
            "padding": null,
            "right": null,
            "top": null,
            "visibility": null,
            "width": null
          }
        },
        "6e3c9a36a7cb481c84fbd744c396ca01": {
          "model_module": "@jupyter-widgets/controls",
          "model_name": "DescriptionStyleModel",
          "model_module_version": "1.5.0",
          "state": {
            "_model_module": "@jupyter-widgets/controls",
            "_model_module_version": "1.5.0",
            "_model_name": "DescriptionStyleModel",
            "_view_count": null,
            "_view_module": "@jupyter-widgets/base",
            "_view_module_version": "1.2.0",
            "_view_name": "StyleView",
            "description_width": ""
          }
        },
        "7ac2bb70743445b7988b32f68a7a2f4d": {
          "model_module": "@jupyter-widgets/controls",
          "model_name": "VBoxModel",
          "model_module_version": "1.5.0",
          "state": {
            "_dom_classes": [],
            "_model_module": "@jupyter-widgets/controls",
            "_model_module_version": "1.5.0",
            "_model_name": "VBoxModel",
            "_view_count": null,
            "_view_module": "@jupyter-widgets/controls",
            "_view_module_version": "1.5.0",
            "_view_name": "VBoxView",
            "box_style": "",
            "children": [
              "IPY_MODEL_905b71bbf5bf40f48f89a376d949b100",
              "IPY_MODEL_f1743e689a8a4d0891851780769b4899",
              "IPY_MODEL_293b105b75b24ab0bbc9e9b7b00988c6"
            ],
            "layout": "IPY_MODEL_5c50aeb1d4da4252927833e7a99717f9"
          }
        },
        "905b71bbf5bf40f48f89a376d949b100": {
          "model_module": "@jupyter-widgets/controls",
          "model_name": "HTMLModel",
          "model_module_version": "1.5.0",
          "state": {
            "_dom_classes": [],
            "_model_module": "@jupyter-widgets/controls",
            "_model_module_version": "1.5.0",
            "_model_name": "HTMLModel",
            "_view_count": null,
            "_view_module": "@jupyter-widgets/controls",
            "_view_module_version": "1.5.0",
            "_view_name": "HTMLView",
            "description": "",
            "description_tooltip": null,
            "layout": "IPY_MODEL_46b90c6cc6ea4ac08317dbb4f1ee52bc",
            "placeholder": "​",
            "style": "IPY_MODEL_d973d925581641979b8ce5531fb2579f",
            "value": "<h2 style='color: #2B547E; text-align: center;'>Land Cover Classifier</h2>"
          }
        },
        "f1743e689a8a4d0891851780769b4899": {
          "model_module": "@jupyter-widgets/controls",
          "model_name": "VBoxModel",
          "model_module_version": "1.5.0",
          "state": {
            "_dom_classes": [],
            "_model_module": "@jupyter-widgets/controls",
            "_model_module_version": "1.5.0",
            "_model_name": "VBoxModel",
            "_view_count": null,
            "_view_module": "@jupyter-widgets/controls",
            "_view_module_version": "1.5.0",
            "_view_name": "VBoxView",
            "box_style": "",
            "children": [
              "IPY_MODEL_d2bdc2a3447f4a1a953a2589aa69f4ff",
              "IPY_MODEL_c2e8b6c8231642fb8c4587d934defc74"
            ],
            "layout": "IPY_MODEL_dc096913ac2f4676aaf68074d90fc73f"
          }
        },
        "293b105b75b24ab0bbc9e9b7b00988c6": {
          "model_module": "@jupyter-widgets/output",
          "model_name": "OutputModel",
          "model_module_version": "1.0.0",
          "state": {
            "_dom_classes": [],
            "_model_module": "@jupyter-widgets/output",
            "_model_module_version": "1.0.0",
            "_model_name": "OutputModel",
            "_view_count": null,
            "_view_module": "@jupyter-widgets/output",
            "_view_module_version": "1.0.0",
            "_view_name": "OutputView",
            "layout": "IPY_MODEL_23ef301288574cd98806de2cca1e63e4",
            "msg_id": "",
            "outputs": [
              {
                "output_type": "stream",
                "name": "stdout",
                "text": [
                  "Uploaded Image:\n"
                ]
              },
              {
                "output_type": "display_data",
                "data": {
                  "text/plain": "<Figure size 400x400 with 1 Axes>",
                  "image/png": "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\n"
                },
                "metadata": {}
              },
              {
                "output_type": "display_data",
                "data": {
                  "text/plain": "HTML(value=\"<div style='margin-top: 10px;'><h4 style='color: #2B547E;'>Analysis Results:</h4><p><b>OvO Predict…",
                  "application/vnd.jupyter.widget-view+json": {
                    "version_major": 2,
                    "version_minor": 0,
                    "model_id": "13bc872417f1434f825d1d26616da293"
                  }
                },
                "metadata": {}
              }
            ]
          }
        },
        "5c50aeb1d4da4252927833e7a99717f9": {
          "model_module": "@jupyter-widgets/base",
          "model_name": "LayoutModel",
          "model_module_version": "1.2.0",
          "state": {
            "_model_module": "@jupyter-widgets/base",
            "_model_module_version": "1.2.0",
            "_model_name": "LayoutModel",
            "_view_count": null,
            "_view_module": "@jupyter-widgets/base",
            "_view_module_version": "1.2.0",
            "_view_name": "LayoutView",
            "align_content": null,
            "align_items": null,
            "align_self": null,
            "border": null,
            "bottom": null,
            "display": null,
            "flex": null,
            "flex_flow": null,
            "grid_area": null,
            "grid_auto_columns": null,
            "grid_auto_flow": null,
            "grid_auto_rows": null,
            "grid_column": null,
            "grid_gap": null,
            "grid_row": null,
            "grid_template_areas": null,
            "grid_template_columns": null,
            "grid_template_rows": null,
            "height": null,
            "justify_content": null,
            "justify_items": null,
            "left": null,
            "margin": "0 auto",
            "max_height": null,
            "max_width": null,
            "min_height": null,
            "min_width": null,
            "object_fit": null,
            "object_position": null,
            "order": null,
            "overflow": null,
            "overflow_x": null,
            "overflow_y": null,
            "padding": "20px",
            "right": null,
            "top": null,
            "visibility": null,
            "width": "70%"
          }
        },
        "46b90c6cc6ea4ac08317dbb4f1ee52bc": {
          "model_module": "@jupyter-widgets/base",
          "model_name": "LayoutModel",
          "model_module_version": "1.2.0",
          "state": {
            "_model_module": "@jupyter-widgets/base",
            "_model_module_version": "1.2.0",
            "_model_name": "LayoutModel",
            "_view_count": null,
            "_view_module": "@jupyter-widgets/base",
            "_view_module_version": "1.2.0",
            "_view_name": "LayoutView",
            "align_content": null,
            "align_items": null,
            "align_self": null,
            "border": null,
            "bottom": null,
            "display": null,
            "flex": null,
            "flex_flow": null,
            "grid_area": null,
            "grid_auto_columns": null,
            "grid_auto_flow": null,
            "grid_auto_rows": null,
            "grid_column": null,
            "grid_gap": null,
            "grid_row": null,
            "grid_template_areas": null,
            "grid_template_columns": null,
            "grid_template_rows": null,
            "height": null,
            "justify_content": null,
            "justify_items": null,
            "left": null,
            "margin": null,
            "max_height": null,
            "max_width": null,
            "min_height": null,
            "min_width": null,
            "object_fit": null,
            "object_position": null,
            "order": null,
            "overflow": null,
            "overflow_x": null,
            "overflow_y": null,
            "padding": null,
            "right": null,
            "top": null,
            "visibility": null,
            "width": null
          }
        },
        "d973d925581641979b8ce5531fb2579f": {
          "model_module": "@jupyter-widgets/controls",
          "model_name": "DescriptionStyleModel",
          "model_module_version": "1.5.0",
          "state": {
            "_model_module": "@jupyter-widgets/controls",
            "_model_module_version": "1.5.0",
            "_model_name": "DescriptionStyleModel",
            "_view_count": null,
            "_view_module": "@jupyter-widgets/base",
            "_view_module_version": "1.2.0",
            "_view_name": "StyleView",
            "description_width": ""
          }
        },
        "d2bdc2a3447f4a1a953a2589aa69f4ff": {
          "model_module": "@jupyter-widgets/controls",
          "model_name": "FileUploadModel",
          "model_module_version": "1.5.0",
          "state": {
            "_counter": 4,
            "_dom_classes": [],
            "_model_module": "@jupyter-widgets/controls",
            "_model_module_version": "1.5.0",
            "_model_name": "FileUploadModel",
            "_view_count": null,
            "_view_module": "@jupyter-widgets/controls",
            "_view_module_version": "1.5.0",
            "_view_name": "FileUploadView",
            "accept": "image/*",
            "button_style": "",
            "data": [
              null
            ],
            "description": "Upload Image:",
            "description_tooltip": null,
            "disabled": false,
            "error": "",
            "icon": "upload",
            "layout": "IPY_MODEL_6de1b7d0360c44578b8916dd4026f471",
            "metadata": [
              {
                "name": "sat_tree.jpg",
                "type": "image/jpeg",
                "size": 8250,
                "lastModified": 1745790606481
              }
            ],
            "multiple": false,
            "style": "IPY_MODEL_d938149280f9468daa3ba04e3da5c717"
          }
        },
        "c2e8b6c8231642fb8c4587d934defc74": {
          "model_module": "@jupyter-widgets/controls",
          "model_name": "ButtonModel",
          "model_module_version": "1.5.0",
          "state": {
            "_dom_classes": [],
            "_model_module": "@jupyter-widgets/controls",
            "_model_module_version": "1.5.0",
            "_model_name": "ButtonModel",
            "_view_count": null,
            "_view_module": "@jupyter-widgets/controls",
            "_view_module_version": "1.5.0",
            "_view_name": "ButtonView",
            "button_style": "success",
            "description": "Analyze Image",
            "disabled": false,
            "icon": "check",
            "layout": "IPY_MODEL_baa17642747d4af5a863087e34322e09",
            "style": "IPY_MODEL_7cc81c25b22a438698e4f43d04d9b432",
            "tooltip": ""
          }
        },
        "dc096913ac2f4676aaf68074d90fc73f": {
          "model_module": "@jupyter-widgets/base",
          "model_name": "LayoutModel",
          "model_module_version": "1.2.0",
          "state": {
            "_model_module": "@jupyter-widgets/base",
            "_model_module_version": "1.2.0",
            "_model_name": "LayoutModel",
            "_view_count": null,
            "_view_module": "@jupyter-widgets/base",
            "_view_module_version": "1.2.0",
            "_view_name": "LayoutView",
            "align_content": null,
            "align_items": "center",
            "align_self": null,
            "border": null,
            "bottom": null,
            "display": null,
            "flex": null,
            "flex_flow": null,
            "grid_area": null,
            "grid_auto_columns": null,
            "grid_auto_flow": null,
            "grid_auto_rows": null,
            "grid_column": null,
            "grid_gap": null,
            "grid_row": null,
            "grid_template_areas": null,
            "grid_template_columns": null,
            "grid_template_rows": null,
            "height": null,
            "justify_content": null,
            "justify_items": null,
            "left": null,
            "margin": "0 auto",
            "max_height": null,
            "max_width": null,
            "min_height": null,
            "min_width": null,
            "object_fit": null,
            "object_position": null,
            "order": null,
            "overflow": null,
            "overflow_x": null,
            "overflow_y": null,
            "padding": "10px",
            "right": null,
            "top": null,
            "visibility": null,
            "width": "50%"
          }
        },
        "6de1b7d0360c44578b8916dd4026f471": {
          "model_module": "@jupyter-widgets/base",
          "model_name": "LayoutModel",
          "model_module_version": "1.2.0",
          "state": {
            "_model_module": "@jupyter-widgets/base",
            "_model_module_version": "1.2.0",
            "_model_name": "LayoutModel",
            "_view_count": null,
            "_view_module": "@jupyter-widgets/base",
            "_view_module_version": "1.2.0",
            "_view_name": "LayoutView",
            "align_content": null,
            "align_items": null,
            "align_self": null,
            "border": null,
            "bottom": null,
            "display": null,
            "flex": null,
            "flex_flow": null,
            "grid_area": null,
            "grid_auto_columns": null,
            "grid_auto_flow": null,
            "grid_auto_rows": null,
            "grid_column": null,
            "grid_gap": null,
            "grid_row": null,
            "grid_template_areas": null,
            "grid_template_columns": null,
            "grid_template_rows": null,
            "height": null,
            "justify_content": null,
            "justify_items": null,
            "left": null,
            "margin": "5px",
            "max_height": null,
            "max_width": null,
            "min_height": null,
            "min_width": null,
            "object_fit": null,
            "object_position": null,
            "order": null,
            "overflow": null,
            "overflow_x": null,
            "overflow_y": null,
            "padding": null,
            "right": null,
            "top": null,
            "visibility": null,
            "width": "auto"
          }
        },
        "d938149280f9468daa3ba04e3da5c717": {
          "model_module": "@jupyter-widgets/controls",
          "model_name": "ButtonStyleModel",
          "model_module_version": "1.5.0",
          "state": {
            "_model_module": "@jupyter-widgets/controls",
            "_model_module_version": "1.5.0",
            "_model_name": "ButtonStyleModel",
            "_view_count": null,
            "_view_module": "@jupyter-widgets/base",
            "_view_module_version": "1.2.0",
            "_view_name": "StyleView",
            "button_color": null,
            "font_weight": ""
          }
        },
        "baa17642747d4af5a863087e34322e09": {
          "model_module": "@jupyter-widgets/base",
          "model_name": "LayoutModel",
          "model_module_version": "1.2.0",
          "state": {
            "_model_module": "@jupyter-widgets/base",
            "_model_module_version": "1.2.0",
            "_model_name": "LayoutModel",
            "_view_count": null,
            "_view_module": "@jupyter-widgets/base",
            "_view_module_version": "1.2.0",
            "_view_name": "LayoutView",
            "align_content": null,
            "align_items": null,
            "align_self": null,
            "border": null,
            "bottom": null,
            "display": null,
            "flex": null,
            "flex_flow": null,
            "grid_area": null,
            "grid_auto_columns": null,
            "grid_auto_flow": null,
            "grid_auto_rows": null,
            "grid_column": null,
            "grid_gap": null,
            "grid_row": null,
            "grid_template_areas": null,
            "grid_template_columns": null,
            "grid_template_rows": null,
            "height": null,
            "justify_content": null,
            "justify_items": null,
            "left": null,
            "margin": "5px",
            "max_height": null,
            "max_width": null,
            "min_height": null,
            "min_width": null,
            "object_fit": null,
            "object_position": null,
            "order": null,
            "overflow": null,
            "overflow_x": null,
            "overflow_y": null,
            "padding": null,
            "right": null,
            "top": null,
            "visibility": null,
            "width": "200px"
          }
        },
        "7cc81c25b22a438698e4f43d04d9b432": {
          "model_module": "@jupyter-widgets/controls",
          "model_name": "ButtonStyleModel",
          "model_module_version": "1.5.0",
          "state": {
            "_model_module": "@jupyter-widgets/controls",
            "_model_module_version": "1.5.0",
            "_model_name": "ButtonStyleModel",
            "_view_count": null,
            "_view_module": "@jupyter-widgets/base",
            "_view_module_version": "1.2.0",
            "_view_name": "StyleView",
            "button_color": null,
            "font_weight": ""
          }
        },
        "23ef301288574cd98806de2cca1e63e4": {
          "model_module": "@jupyter-widgets/base",
          "model_name": "LayoutModel",
          "model_module_version": "1.2.0",
          "state": {
            "_model_module": "@jupyter-widgets/base",
            "_model_module_version": "1.2.0",
            "_model_name": "LayoutModel",
            "_view_count": null,
            "_view_module": "@jupyter-widgets/base",
            "_view_module_version": "1.2.0",
            "_view_name": "LayoutView",
            "align_content": null,
            "align_items": null,
            "align_self": null,
            "border": "1px solid silver",
            "bottom": null,
            "display": null,
            "flex": null,
            "flex_flow": null,
            "grid_area": null,
            "grid_auto_columns": null,
            "grid_auto_flow": null,
            "grid_auto_rows": null,
            "grid_column": null,
            "grid_gap": null,
            "grid_row": null,
            "grid_template_areas": null,
            "grid_template_columns": null,
            "grid_template_rows": null,
            "height": null,
            "justify_content": null,
            "justify_items": null,
            "left": null,
            "margin": "5px",
            "max_height": null,
            "max_width": null,
            "min_height": null,
            "min_width": null,
            "object_fit": null,
            "object_position": null,
            "order": null,
            "overflow": null,
            "overflow_x": null,
            "overflow_y": null,
            "padding": null,
            "right": null,
            "top": null,
            "visibility": null,
            "width": null
          }
        },
        "d7c62c1be66e421a9abcc2c751543610": {
          "model_module": "@jupyter-widgets/controls",
          "model_name": "HTMLModel",
          "model_module_version": "1.5.0",
          "state": {
            "_dom_classes": [],
            "_model_module": "@jupyter-widgets/controls",
            "_model_module_version": "1.5.0",
            "_model_name": "HTMLModel",
            "_view_count": null,
            "_view_module": "@jupyter-widgets/controls",
            "_view_module_version": "1.5.0",
            "_view_name": "HTMLView",
            "description": "",
            "description_tooltip": null,
            "layout": "IPY_MODEL_bf15b28881d5433aa85ed24cca48a144",
            "placeholder": "​",
            "style": "IPY_MODEL_f63e4e89459d4ae4a31cbefbe42c6cc1",
            "value": "<i style='color: #888;'>Analyzing image...</i>"
          }
        },
        "bf15b28881d5433aa85ed24cca48a144": {
          "model_module": "@jupyter-widgets/base",
          "model_name": "LayoutModel",
          "model_module_version": "1.2.0",
          "state": {
            "_model_module": "@jupyter-widgets/base",
            "_model_module_version": "1.2.0",
            "_model_name": "LayoutModel",
            "_view_count": null,
            "_view_module": "@jupyter-widgets/base",
            "_view_module_version": "1.2.0",
            "_view_name": "LayoutView",
            "align_content": null,
            "align_items": null,
            "align_self": null,
            "border": null,
            "bottom": null,
            "display": null,
            "flex": null,
            "flex_flow": null,
            "grid_area": null,
            "grid_auto_columns": null,
            "grid_auto_flow": null,
            "grid_auto_rows": null,
            "grid_column": null,
            "grid_gap": null,
            "grid_row": null,
            "grid_template_areas": null,
            "grid_template_columns": null,
            "grid_template_rows": null,
            "height": null,
            "justify_content": null,
            "justify_items": null,
            "left": null,
            "margin": null,
            "max_height": null,
            "max_width": null,
            "min_height": null,
            "min_width": null,
            "object_fit": null,
            "object_position": null,
            "order": null,
            "overflow": null,
            "overflow_x": null,
            "overflow_y": null,
            "padding": null,
            "right": null,
            "top": null,
            "visibility": null,
            "width": null
          }
        },
        "f63e4e89459d4ae4a31cbefbe42c6cc1": {
          "model_module": "@jupyter-widgets/controls",
          "model_name": "DescriptionStyleModel",
          "model_module_version": "1.5.0",
          "state": {
            "_model_module": "@jupyter-widgets/controls",
            "_model_module_version": "1.5.0",
            "_model_name": "DescriptionStyleModel",
            "_view_count": null,
            "_view_module": "@jupyter-widgets/base",
            "_view_module_version": "1.2.0",
            "_view_name": "StyleView",
            "description_width": ""
          }
        },
        "f5f95e16dcd040c4a777891883808815": {
          "model_module": "@jupyter-widgets/controls",
          "model_name": "HTMLModel",
          "model_module_version": "1.5.0",
          "state": {
            "_dom_classes": [],
            "_model_module": "@jupyter-widgets/controls",
            "_model_module_version": "1.5.0",
            "_model_name": "HTMLModel",
            "_view_count": null,
            "_view_module": "@jupyter-widgets/controls",
            "_view_module_version": "1.5.0",
            "_view_name": "HTMLView",
            "description": "",
            "description_tooltip": null,
            "layout": "IPY_MODEL_28a4111ef1f346f9a9b5bdd7656036d6",
            "placeholder": "​",
            "style": "IPY_MODEL_ed6677cd6e1f462b88366e65aebbb419",
            "value": "<div style='margin-top: 10px;'><h4 style='color: #2B547E;'>Analysis Results:</h4><p><b>OvO Prediction:</b> <span style='color: #228B22;'>Trees</span> (Time: 0.0292 sec)</p><p><b>OvR Prediction:</b> <span style='color: #228B22;'>Trees</span> (Time: 0.0012 sec)</p><h5>Class Scores (OvO):</h5><ul><li>Barren Land: -0.3009</li><li>Trees: 3.3103</li><li>Grassland: 1.7187</li><li>Other: 1.1814</li></ul><h5>Class Scores (OvR):</h5><ul><li>Barren Land: -2.5702</li><li>Trees: 1.0006</li><li>Grassland: -2.3309</li><li>Other: 0.4425</li></ul></div>"
          }
        },
        "28a4111ef1f346f9a9b5bdd7656036d6": {
          "model_module": "@jupyter-widgets/base",
          "model_name": "LayoutModel",
          "model_module_version": "1.2.0",
          "state": {
            "_model_module": "@jupyter-widgets/base",
            "_model_module_version": "1.2.0",
            "_model_name": "LayoutModel",
            "_view_count": null,
            "_view_module": "@jupyter-widgets/base",
            "_view_module_version": "1.2.0",
            "_view_name": "LayoutView",
            "align_content": null,
            "align_items": null,
            "align_self": null,
            "border": null,
            "bottom": null,
            "display": null,
            "flex": null,
            "flex_flow": null,
            "grid_area": null,
            "grid_auto_columns": null,
            "grid_auto_flow": null,
            "grid_auto_rows": null,
            "grid_column": null,
            "grid_gap": null,
            "grid_row": null,
            "grid_template_areas": null,
            "grid_template_columns": null,
            "grid_template_rows": null,
            "height": null,
            "justify_content": null,
            "justify_items": null,
            "left": null,
            "margin": null,
            "max_height": null,
            "max_width": null,
            "min_height": null,
            "min_width": null,
            "object_fit": null,
            "object_position": null,
            "order": null,
            "overflow": null,
            "overflow_x": null,
            "overflow_y": null,
            "padding": null,
            "right": null,
            "top": null,
            "visibility": null,
            "width": null
          }
        },
        "ed6677cd6e1f462b88366e65aebbb419": {
          "model_module": "@jupyter-widgets/controls",
          "model_name": "DescriptionStyleModel",
          "model_module_version": "1.5.0",
          "state": {
            "_model_module": "@jupyter-widgets/controls",
            "_model_module_version": "1.5.0",
            "_model_name": "DescriptionStyleModel",
            "_view_count": null,
            "_view_module": "@jupyter-widgets/base",
            "_view_module_version": "1.2.0",
            "_view_name": "StyleView",
            "description_width": ""
          }
        },
        "42532be2fe3d49a3b9ab7f58582f9084": {
          "model_module": "@jupyter-widgets/controls",
          "model_name": "HTMLModel",
          "model_module_version": "1.5.0",
          "state": {
            "_dom_classes": [],
            "_model_module": "@jupyter-widgets/controls",
            "_model_module_version": "1.5.0",
            "_model_name": "HTMLModel",
            "_view_count": null,
            "_view_module": "@jupyter-widgets/controls",
            "_view_module_version": "1.5.0",
            "_view_name": "HTMLView",
            "description": "",
            "description_tooltip": null,
            "layout": "IPY_MODEL_13842df5ed1e4025bfa7e3f46cb56370",
            "placeholder": "​",
            "style": "IPY_MODEL_2975972fc5914201a8cc10a0a812c7c8",
            "value": "<i style='color: #888;'>Analyzing image...</i>"
          }
        },
        "13842df5ed1e4025bfa7e3f46cb56370": {
          "model_module": "@jupyter-widgets/base",
          "model_name": "LayoutModel",
          "model_module_version": "1.2.0",
          "state": {
            "_model_module": "@jupyter-widgets/base",
            "_model_module_version": "1.2.0",
            "_model_name": "LayoutModel",
            "_view_count": null,
            "_view_module": "@jupyter-widgets/base",
            "_view_module_version": "1.2.0",
            "_view_name": "LayoutView",
            "align_content": null,
            "align_items": null,
            "align_self": null,
            "border": null,
            "bottom": null,
            "display": null,
            "flex": null,
            "flex_flow": null,
            "grid_area": null,
            "grid_auto_columns": null,
            "grid_auto_flow": null,
            "grid_auto_rows": null,
            "grid_column": null,
            "grid_gap": null,
            "grid_row": null,
            "grid_template_areas": null,
            "grid_template_columns": null,
            "grid_template_rows": null,
            "height": null,
            "justify_content": null,
            "justify_items": null,
            "left": null,
            "margin": null,
            "max_height": null,
            "max_width": null,
            "min_height": null,
            "min_width": null,
            "object_fit": null,
            "object_position": null,
            "order": null,
            "overflow": null,
            "overflow_x": null,
            "overflow_y": null,
            "padding": null,
            "right": null,
            "top": null,
            "visibility": null,
            "width": null
          }
        },
        "2975972fc5914201a8cc10a0a812c7c8": {
          "model_module": "@jupyter-widgets/controls",
          "model_name": "DescriptionStyleModel",
          "model_module_version": "1.5.0",
          "state": {
            "_model_module": "@jupyter-widgets/controls",
            "_model_module_version": "1.5.0",
            "_model_name": "DescriptionStyleModel",
            "_view_count": null,
            "_view_module": "@jupyter-widgets/base",
            "_view_module_version": "1.2.0",
            "_view_name": "StyleView",
            "description_width": ""
          }
        },
        "216785b8f4af45aca3f4854cc91f7181": {
          "model_module": "@jupyter-widgets/controls",
          "model_name": "HTMLModel",
          "model_module_version": "1.5.0",
          "state": {
            "_dom_classes": [],
            "_model_module": "@jupyter-widgets/controls",
            "_model_module_version": "1.5.0",
            "_model_name": "HTMLModel",
            "_view_count": null,
            "_view_module": "@jupyter-widgets/controls",
            "_view_module_version": "1.5.0",
            "_view_name": "HTMLView",
            "description": "",
            "description_tooltip": null,
            "layout": "IPY_MODEL_919f9bd7c0bf4fb48c8e457a176b4050",
            "placeholder": "​",
            "style": "IPY_MODEL_1cf24fe0542940c6be3779acd828c6cd",
            "value": "<div style='margin-top: 10px;'><h4 style='color: #2B547E;'>Analysis Results:</h4><p><b>OvO Prediction:</b> <span style='color: #228B22;'>Trees</span> (Time: 0.0307 sec)</p><p><b>OvR Prediction:</b> <span style='color: #228B22;'>Barren Land</span> (Time: 0.0012 sec)</p><h5>Class Scores (OvO):</h5><ul><li>Barren Land: 2.2679</li><li>Trees: 2.2722</li><li>Grassland: -0.3020</li><li>Other: 2.1728</li></ul><h5>Class Scores (OvR):</h5><ul><li>Barren Land: -0.3533</li><li>Trees: -1.0625</li><li>Grassland: -1.8812</li><li>Other: -1.6002</li></ul></div>"
          }
        },
        "919f9bd7c0bf4fb48c8e457a176b4050": {
          "model_module": "@jupyter-widgets/base",
          "model_name": "LayoutModel",
          "model_module_version": "1.2.0",
          "state": {
            "_model_module": "@jupyter-widgets/base",
            "_model_module_version": "1.2.0",
            "_model_name": "LayoutModel",
            "_view_count": null,
            "_view_module": "@jupyter-widgets/base",
            "_view_module_version": "1.2.0",
            "_view_name": "LayoutView",
            "align_content": null,
            "align_items": null,
            "align_self": null,
            "border": null,
            "bottom": null,
            "display": null,
            "flex": null,
            "flex_flow": null,
            "grid_area": null,
            "grid_auto_columns": null,
            "grid_auto_flow": null,
            "grid_auto_rows": null,
            "grid_column": null,
            "grid_gap": null,
            "grid_row": null,
            "grid_template_areas": null,
            "grid_template_columns": null,
            "grid_template_rows": null,
            "height": null,
            "justify_content": null,
            "justify_items": null,
            "left": null,
            "margin": null,
            "max_height": null,
            "max_width": null,
            "min_height": null,
            "min_width": null,
            "object_fit": null,
            "object_position": null,
            "order": null,
            "overflow": null,
            "overflow_x": null,
            "overflow_y": null,
            "padding": null,
            "right": null,
            "top": null,
            "visibility": null,
            "width": null
          }
        },
        "1cf24fe0542940c6be3779acd828c6cd": {
          "model_module": "@jupyter-widgets/controls",
          "model_name": "DescriptionStyleModel",
          "model_module_version": "1.5.0",
          "state": {
            "_model_module": "@jupyter-widgets/controls",
            "_model_module_version": "1.5.0",
            "_model_name": "DescriptionStyleModel",
            "_view_count": null,
            "_view_module": "@jupyter-widgets/base",
            "_view_module_version": "1.2.0",
            "_view_name": "StyleView",
            "description_width": ""
          }
        },
        "bff29921b0b5467f8fca79561cdc0d00": {
          "model_module": "@jupyter-widgets/controls",
          "model_name": "HTMLModel",
          "model_module_version": "1.5.0",
          "state": {
            "_dom_classes": [],
            "_model_module": "@jupyter-widgets/controls",
            "_model_module_version": "1.5.0",
            "_model_name": "HTMLModel",
            "_view_count": null,
            "_view_module": "@jupyter-widgets/controls",
            "_view_module_version": "1.5.0",
            "_view_name": "HTMLView",
            "description": "",
            "description_tooltip": null,
            "layout": "IPY_MODEL_70d54cf04db7490c916ce586184c504f",
            "placeholder": "​",
            "style": "IPY_MODEL_556fc1e255cf44e19bcd2e0551659cb7",
            "value": "<i style='color: #888;'>Analyzing image...</i>"
          }
        },
        "70d54cf04db7490c916ce586184c504f": {
          "model_module": "@jupyter-widgets/base",
          "model_name": "LayoutModel",
          "model_module_version": "1.2.0",
          "state": {
            "_model_module": "@jupyter-widgets/base",
            "_model_module_version": "1.2.0",
            "_model_name": "LayoutModel",
            "_view_count": null,
            "_view_module": "@jupyter-widgets/base",
            "_view_module_version": "1.2.0",
            "_view_name": "LayoutView",
            "align_content": null,
            "align_items": null,
            "align_self": null,
            "border": null,
            "bottom": null,
            "display": null,
            "flex": null,
            "flex_flow": null,
            "grid_area": null,
            "grid_auto_columns": null,
            "grid_auto_flow": null,
            "grid_auto_rows": null,
            "grid_column": null,
            "grid_gap": null,
            "grid_row": null,
            "grid_template_areas": null,
            "grid_template_columns": null,
            "grid_template_rows": null,
            "height": null,
            "justify_content": null,
            "justify_items": null,
            "left": null,
            "margin": null,
            "max_height": null,
            "max_width": null,
            "min_height": null,
            "min_width": null,
            "object_fit": null,
            "object_position": null,
            "order": null,
            "overflow": null,
            "overflow_x": null,
            "overflow_y": null,
            "padding": null,
            "right": null,
            "top": null,
            "visibility": null,
            "width": null
          }
        },
        "556fc1e255cf44e19bcd2e0551659cb7": {
          "model_module": "@jupyter-widgets/controls",
          "model_name": "DescriptionStyleModel",
          "model_module_version": "1.5.0",
          "state": {
            "_model_module": "@jupyter-widgets/controls",
            "_model_module_version": "1.5.0",
            "_model_name": "DescriptionStyleModel",
            "_view_count": null,
            "_view_module": "@jupyter-widgets/base",
            "_view_module_version": "1.2.0",
            "_view_name": "StyleView",
            "description_width": ""
          }
        },
        "029dc07a270547fda116014768644018": {
          "model_module": "@jupyter-widgets/controls",
          "model_name": "HTMLModel",
          "model_module_version": "1.5.0",
          "state": {
            "_dom_classes": [],
            "_model_module": "@jupyter-widgets/controls",
            "_model_module_version": "1.5.0",
            "_model_name": "HTMLModel",
            "_view_count": null,
            "_view_module": "@jupyter-widgets/controls",
            "_view_module_version": "1.5.0",
            "_view_name": "HTMLView",
            "description": "",
            "description_tooltip": null,
            "layout": "IPY_MODEL_b4dfd720673a40bdbe1c540b4924acb4",
            "placeholder": "​",
            "style": "IPY_MODEL_e5015ee5adf74097b488831279a17a0d",
            "value": "<div style='margin-top: 10px;'><h4 style='color: #2B547E;'>Analysis Results:</h4><p><b>OvO Prediction:</b> <span style='color: #228B22;'>Other</span> (Time: 0.0279 sec)</p><p><b>OvR Prediction:</b> <span style='color: #228B22;'>Other</span> (Time: 0.0014 sec)</p><h5>Class Scores (OvO):</h5><ul><li>Barren Land: -0.2889</li><li>Trees: 2.3044</li><li>Grassland: 0.6962</li><li>Other: 3.2876</li></ul><h5>Class Scores (OvR):</h5><ul><li>Barren Land: -2.9467</li><li>Trees: -0.1838</li><li>Grassland: -2.9612</li><li>Other: 1.8525</li></ul></div>"
          }
        },
        "b4dfd720673a40bdbe1c540b4924acb4": {
          "model_module": "@jupyter-widgets/base",
          "model_name": "LayoutModel",
          "model_module_version": "1.2.0",
          "state": {
            "_model_module": "@jupyter-widgets/base",
            "_model_module_version": "1.2.0",
            "_model_name": "LayoutModel",
            "_view_count": null,
            "_view_module": "@jupyter-widgets/base",
            "_view_module_version": "1.2.0",
            "_view_name": "LayoutView",
            "align_content": null,
            "align_items": null,
            "align_self": null,
            "border": null,
            "bottom": null,
            "display": null,
            "flex": null,
            "flex_flow": null,
            "grid_area": null,
            "grid_auto_columns": null,
            "grid_auto_flow": null,
            "grid_auto_rows": null,
            "grid_column": null,
            "grid_gap": null,
            "grid_row": null,
            "grid_template_areas": null,
            "grid_template_columns": null,
            "grid_template_rows": null,
            "height": null,
            "justify_content": null,
            "justify_items": null,
            "left": null,
            "margin": null,
            "max_height": null,
            "max_width": null,
            "min_height": null,
            "min_width": null,
            "object_fit": null,
            "object_position": null,
            "order": null,
            "overflow": null,
            "overflow_x": null,
            "overflow_y": null,
            "padding": null,
            "right": null,
            "top": null,
            "visibility": null,
            "width": null
          }
        },
        "e5015ee5adf74097b488831279a17a0d": {
          "model_module": "@jupyter-widgets/controls",
          "model_name": "DescriptionStyleModel",
          "model_module_version": "1.5.0",
          "state": {
            "_model_module": "@jupyter-widgets/controls",
            "_model_module_version": "1.5.0",
            "_model_name": "DescriptionStyleModel",
            "_view_count": null,
            "_view_module": "@jupyter-widgets/base",
            "_view_module_version": "1.2.0",
            "_view_name": "StyleView",
            "description_width": ""
          }
        },
        "5ca5140a0ce14da99a26f4ac15467333": {
          "model_module": "@jupyter-widgets/controls",
          "model_name": "HTMLModel",
          "model_module_version": "1.5.0",
          "state": {
            "_dom_classes": [],
            "_model_module": "@jupyter-widgets/controls",
            "_model_module_version": "1.5.0",
            "_model_name": "HTMLModel",
            "_view_count": null,
            "_view_module": "@jupyter-widgets/controls",
            "_view_module_version": "1.5.0",
            "_view_name": "HTMLView",
            "description": "",
            "description_tooltip": null,
            "layout": "IPY_MODEL_afaece8ef7944be4994f2a0b4826f977",
            "placeholder": "​",
            "style": "IPY_MODEL_b2603742416b4fc580cbb1ae91b5f48c",
            "value": "<i style='color: #888;'>Analyzing image...</i>"
          }
        },
        "afaece8ef7944be4994f2a0b4826f977": {
          "model_module": "@jupyter-widgets/base",
          "model_name": "LayoutModel",
          "model_module_version": "1.2.0",
          "state": {
            "_model_module": "@jupyter-widgets/base",
            "_model_module_version": "1.2.0",
            "_model_name": "LayoutModel",
            "_view_count": null,
            "_view_module": "@jupyter-widgets/base",
            "_view_module_version": "1.2.0",
            "_view_name": "LayoutView",
            "align_content": null,
            "align_items": null,
            "align_self": null,
            "border": null,
            "bottom": null,
            "display": null,
            "flex": null,
            "flex_flow": null,
            "grid_area": null,
            "grid_auto_columns": null,
            "grid_auto_flow": null,
            "grid_auto_rows": null,
            "grid_column": null,
            "grid_gap": null,
            "grid_row": null,
            "grid_template_areas": null,
            "grid_template_columns": null,
            "grid_template_rows": null,
            "height": null,
            "justify_content": null,
            "justify_items": null,
            "left": null,
            "margin": null,
            "max_height": null,
            "max_width": null,
            "min_height": null,
            "min_width": null,
            "object_fit": null,
            "object_position": null,
            "order": null,
            "overflow": null,
            "overflow_x": null,
            "overflow_y": null,
            "padding": null,
            "right": null,
            "top": null,
            "visibility": null,
            "width": null
          }
        },
        "b2603742416b4fc580cbb1ae91b5f48c": {
          "model_module": "@jupyter-widgets/controls",
          "model_name": "DescriptionStyleModel",
          "model_module_version": "1.5.0",
          "state": {
            "_model_module": "@jupyter-widgets/controls",
            "_model_module_version": "1.5.0",
            "_model_name": "DescriptionStyleModel",
            "_view_count": null,
            "_view_module": "@jupyter-widgets/base",
            "_view_module_version": "1.2.0",
            "_view_name": "StyleView",
            "description_width": ""
          }
        },
        "13bc872417f1434f825d1d26616da293": {
          "model_module": "@jupyter-widgets/controls",
          "model_name": "HTMLModel",
          "model_module_version": "1.5.0",
          "state": {
            "_dom_classes": [],
            "_model_module": "@jupyter-widgets/controls",
            "_model_module_version": "1.5.0",
            "_model_name": "HTMLModel",
            "_view_count": null,
            "_view_module": "@jupyter-widgets/controls",
            "_view_module_version": "1.5.0",
            "_view_name": "HTMLView",
            "description": "",
            "description_tooltip": null,
            "layout": "IPY_MODEL_90bff9874d0f419594703cd4be2dcdea",
            "placeholder": "​",
            "style": "IPY_MODEL_a61d36127c94457891edd47684942129",
            "value": "<div style='margin-top: 10px;'><h4 style='color: #2B547E;'>Analysis Results:</h4><p><b>OvO Prediction:</b> <span style='color: #228B22;'>Trees</span> (Time: 0.0275 sec)</p><p><b>OvR Prediction:</b> <span style='color: #228B22;'>Trees</span> (Time: 0.0012 sec)</p><h5>Class Scores (OvO):</h5><ul><li>Barren Land: -0.2957</li><li>Trees: 3.2964</li><li>Grassland: 2.2612</li><li>Other: 0.7361</li></ul><h5>Class Scores (OvR):</h5><ul><li>Barren Land: -2.2907</li><li>Trees: 0.3288</li><li>Grassland: -0.6450</li><li>Other: -1.1757</li></ul></div>"
          }
        },
        "90bff9874d0f419594703cd4be2dcdea": {
          "model_module": "@jupyter-widgets/base",
          "model_name": "LayoutModel",
          "model_module_version": "1.2.0",
          "state": {
            "_model_module": "@jupyter-widgets/base",
            "_model_module_version": "1.2.0",
            "_model_name": "LayoutModel",
            "_view_count": null,
            "_view_module": "@jupyter-widgets/base",
            "_view_module_version": "1.2.0",
            "_view_name": "LayoutView",
            "align_content": null,
            "align_items": null,
            "align_self": null,
            "border": null,
            "bottom": null,
            "display": null,
            "flex": null,
            "flex_flow": null,
            "grid_area": null,
            "grid_auto_columns": null,
            "grid_auto_flow": null,
            "grid_auto_rows": null,
            "grid_column": null,
            "grid_gap": null,
            "grid_row": null,
            "grid_template_areas": null,
            "grid_template_columns": null,
            "grid_template_rows": null,
            "height": null,
            "justify_content": null,
            "justify_items": null,
            "left": null,
            "margin": null,
            "max_height": null,
            "max_width": null,
            "min_height": null,
            "min_width": null,
            "object_fit": null,
            "object_position": null,
            "order": null,
            "overflow": null,
            "overflow_x": null,
            "overflow_y": null,
            "padding": null,
            "right": null,
            "top": null,
            "visibility": null,
            "width": null
          }
        },
        "a61d36127c94457891edd47684942129": {
          "model_module": "@jupyter-widgets/controls",
          "model_name": "DescriptionStyleModel",
          "model_module_version": "1.5.0",
          "state": {
            "_model_module": "@jupyter-widgets/controls",
            "_model_module_version": "1.5.0",
            "_model_name": "DescriptionStyleModel",
            "_view_count": null,
            "_view_module": "@jupyter-widgets/base",
            "_view_module_version": "1.2.0",
            "_view_name": "StyleView",
            "description_width": ""
          }
        }
      }
    }
  },
  "nbformat_minor": 0,
  "nbformat": 4,
  "cells": [
    {
      "cell_type": "markdown",
      "metadata": {
        "id": "view-in-github",
        "colab_type": "text"
      },
      "source": [
        "<a href=\"https://colab.research.google.com/github/Harshanand7/GNR_602/blob/main/GNR602_Project.ipynb\" target=\"_parent\"><img src=\"https://colab.research.google.com/assets/colab-badge.svg\" alt=\"Open In Colab\"/></a>"
      ]
    },
    {
      "source": [
        "# IMPORTANT: RUN THIS CELL IN ORDER TO IMPORT YOUR KAGGLE DATA SOURCES,\n",
        "# THEN FEEL FREE TO DELETE THIS CELL.\n",
        "# NOTE: THIS NOTEBOOK ENVIRONMENT DIFFERS FROM KAGGLE'S PYTHON\n",
        "# ENVIRONMENT SO THERE MAY BE MISSING LIBRARIES USED BY YOUR\n",
        "# NOTEBOOK.\n",
        "import kagglehub\n",
        "crawford_deepsat_sat4_path = kagglehub.dataset_download('crawford/deepsat-sat4')\n",
        "\n",
        "print('Data source import complete.')\n"
      ],
      "metadata": {
        "id": "lfkmcXdQMM_k",
        "outputId": "1945c90a-56ca-4041-aabe-9bba97ef14a9",
        "colab": {
          "base_uri": "https://localhost:8080/"
        }
      },
      "cell_type": "code",
      "outputs": [
        {
          "output_type": "stream",
          "name": "stdout",
          "text": [
            "Warning: Looks like you're using an outdated `kagglehub` version (installed: 0.3.11), please consider upgrading to the latest version (0.3.12).\n",
            "Downloading from https://www.kaggle.com/api/v1/datasets/download/crawford/deepsat-sat4?dataset_version_number=2...\n"
          ]
        },
        {
          "output_type": "stream",
          "name": "stderr",
          "text": [
            "100%|██████████| 2.98G/2.98G [00:26<00:00, 119MB/s]"
          ]
        },
        {
          "output_type": "stream",
          "name": "stdout",
          "text": [
            "Extracting files...\n"
          ]
        },
        {
          "output_type": "stream",
          "name": "stderr",
          "text": [
            "\n"
          ]
        },
        {
          "output_type": "stream",
          "name": "stdout",
          "text": [
            "Data source import complete.\n"
          ]
        }
      ],
      "execution_count": 1
    },
    {
      "cell_type": "code",
      "source": [
        "import numpy as np\n",
        "import pandas as pd\n",
        "import torch\n",
        "import torch.nn as nn\n",
        "import torchvision.models as models\n",
        "import torchvision.transforms as transforms\n",
        "from skimage.feature import hog, local_binary_pattern\n",
        "from sklearn.preprocessing import StandardScaler\n",
        "import cupy as cp\n",
        "from cuml.svm import SVC, LinearSVC\n",
        "from cuml.model_selection import train_test_split\n",
        "import time\n",
        "import ipywidgets as widgets  # This line imports the ipywidgets library and makes it accessible using the alias \"widgets\".\n",
        "import numpy as np\n",
        "from IPython.display import display\n",
        "from skimage.io import imread\n",
        "from skimage import color, transform\n",
        "from skimage.feature import hog, local_binary_pattern\n",
        "import cv2\n",
        "from cuml.svm import SVC, LinearSVC\n",
        "import cupy as cp\n",
        "from cuml.svm import SVC, LinearSVC # This ensures that the SVC class is imported and available in the current scope.\n",
        "import joblib\n",
        "from cuml.svm import SVC, LinearSVC # This ensures that the SVC class is imported and available in the current scope.\n",
        "import joblib\n",
        "import matplotlib.pyplot as plt"
      ],
      "metadata": {
        "id": "42cn7_3S3V5j"
      },
      "execution_count": 2,
      "outputs": []
    },
    {
      "cell_type": "code",
      "source": [
        "import os\n",
        "\n",
        "# Check the path\n",
        "print(\"Dataset path:\", crawford_deepsat_sat4_path)\n",
        "\n",
        "# List all files and folders in the dataset path\n",
        "print(\"Files:\", os.listdir(crawford_deepsat_sat4_path))\n"
      ],
      "metadata": {
        "id": "ylbnU5TIOTKq",
        "outputId": "0e85853f-d227-46c8-c7d4-a29cd398ba98",
        "colab": {
          "base_uri": "https://localhost:8080/"
        }
      },
      "execution_count": 3,
      "outputs": [
        {
          "output_type": "stream",
          "name": "stdout",
          "text": [
            "Dataset path: /root/.cache/kagglehub/datasets/crawford/deepsat-sat4/versions/2\n",
            "Files: ['X_train_sat4.csv', 'y_train_sat4.csv', 'sat-4-full.mat', 'X_test_sat4.csv', 'sat4annotations.csv', 'y_test_sat4.csv']\n"
          ]
        }
      ]
    },
    {
      "cell_type": "code",
      "source": [
        "x_train_set_fpath = os.path.join(crawford_deepsat_sat4_path, 'X_test_sat4.csv')\n",
        "y_train_set_fpath = os.path.join(crawford_deepsat_sat4_path, 'y_test_sat4.csv')\n"
      ],
      "metadata": {
        "id": "vr3uSwq9OXHj"
      },
      "execution_count": 4,
      "outputs": []
    },
    {
      "cell_type": "code",
      "source": [
        "import numpy as np  # linear algebra\n",
        "import pandas as pd  # data processing, CSV file I/O (e.g. pd.read_csv)\n",
        "import matplotlib.pyplot as plt  # visualize satellite images\n",
        "from skimage.io import imshow  # visualize satellite images\n",
        "from keras.layers import Dense, Conv2D, MaxPooling2D, Flatten, Dropout  # components of network\n",
        "from keras.models import Sequential  # type of model\n",
        "\n",
        "# Load your data\n",
        "\n",
        "\n",
        "print('Loading Training Data')\n",
        "X_train = pd.read_csv(x_train_set_fpath)\n",
        "print('Loaded 28 x 28 x 4 images')\n",
        "\n",
        "Y_train = pd.read_csv(y_train_set_fpath)\n",
        "print('Loaded labels')\n",
        "\n",
        "\n",
        "\n",
        "\n",
        "print('We have', X_train.shape[0], 'examples and each example is a list of', X_train.shape[1], 'numbers with', Y_train.shape[1], 'possible classifications.')\n",
        "\n",
        "# Reshape the images to 28x28x4\n",
        "X_train_img = X_train.values.reshape([99999, 28, 28, 4]).astype(float)\n",
        "print(X_train_img.shape)\n"
      ],
      "metadata": {
        "id": "kEKYr1-xPA_n",
        "colab": {
          "base_uri": "https://localhost:8080/"
        },
        "outputId": "b82a2776-9e67-4291-987b-523a738e9f01"
      },
      "execution_count": 5,
      "outputs": [
        {
          "output_type": "stream",
          "name": "stdout",
          "text": [
            "Loading Training Data\n",
            "Loaded 28 x 28 x 4 images\n",
            "Loaded labels\n",
            "We have 99999 examples and each example is a list of 3136 numbers with 4 possible classifications.\n",
            "(99999, 28, 28, 4)\n"
          ]
        }
      ]
    },
    {
      "cell_type": "code",
      "source": [
        "import matplotlib.pyplot as plt\n",
        "from skimage import color\n",
        "from skimage.feature import hog\n",
        "\n",
        "# Visualizing one image\n",
        "ix = 200  # Type a number between 0 and 99,999 inclusive\n",
        "\n",
        "# Ensure the image is in a format that imshow can handle\n",
        "img = np.squeeze(X_train_img[ix, :, :, 0:3])  # Only RGB channels\n",
        "img = img / 255.0  # Ensure values are between 0 and 1 for proper display\n",
        "\n",
        "# Check if the image is in the correct format for plotting\n",
        "if img.shape[-1] == 3:  # Check if the image has 3 channels (RGB)\n",
        "    plt.imshow(img.astype(float))  # Cast the image to float for display\n",
        "    plt.axis('off')  # Optional: Hide axes for better visibility\n",
        "    plt.show()\n",
        "else:\n",
        "    print(\"Image format is incorrect. It may not have 3 channels.\")\n",
        "\n",
        "# Tells what the image is\n",
        "if Y_train.iloc[ix, 0] == 1:  # Use .iloc to access elements by integer index\n",
        "    print('Barren Land')\n",
        "elif Y_train.iloc[ix, 1] == 1:\n",
        "    print('Trees')\n",
        "elif Y_train.iloc[ix, 2] == 1:\n",
        "    print('Grassland')\n",
        "else:\n",
        "    print('Other')\n"
      ],
      "metadata": {
        "colab": {
          "base_uri": "https://localhost:8080/",
          "height": 424
        },
        "id": "TmjlzDn-Sio2",
        "outputId": "a39f6b5d-2ff6-43bf-ae33-97bfca34cda7"
      },
      "execution_count": 6,
      "outputs": [
        {
          "output_type": "display_data",
          "data": {
            "text/plain": [
              "<Figure size 640x480 with 1 Axes>"
            ],
            "image/png": "[encoded data removed]"
          },
          "metadata": {}
        },
        {
          "output_type": "stream",
          "name": "stdout",
          "text": [
            "Trees\n"
          ]
        }
      ]
    },
    {
      "cell_type": "markdown",
      "source": [
        "# Feature Extraction"
      ],
      "metadata": {
        "id": "oYVA_Rd_RDiC"
      }
    },
    {
      "cell_type": "code",
      "source": [
        "from skimage import color\n",
        "from skimage.feature import hog\n",
        "\n",
        "hog_features_map = []\n",
        "for i in range(99999):\n",
        "    image_sample = np.squeeze(X_train_img[i, :, :, 0:3])\n",
        "    image_gray = color.rgb2gray(image_sample)\n",
        "    feature= hog(image_gray, orientations=9, pixels_per_cell=(8, 8), cells_per_block=(2, 2), visualize=False)\n",
        "    hog_features_map.append(feature)\n",
        "\n",
        "from sklearn.preprocessing import MinMaxScaler\n",
        "\n",
        "# Convert HOG feature map to a numpy array\n",
        "hog_features_map = np.array(hog_features_map)\n",
        "\n",
        "# Initialize a MinMaxScaler\n",
        "scaler = MinMaxScaler()\n",
        "\n",
        "# Fit the scaler and transform the features\n",
        "hog_features_normalized = scaler.fit_transform(hog_features_map)"
      ],
      "metadata": {
        "id": "U6FmuicV60e1"
      },
      "execution_count": 7,
      "outputs": []
    },
    {
      "cell_type": "code",
      "source": [
        "from skimage.feature import local_binary_pattern\n",
        "\n",
        "lbp_features_map = []\n",
        "\n",
        "for i in range(99999):\n",
        "    image_sample = np.squeeze(X_train_img[i, :, :, 0:3])\n",
        "    image_gray = color.rgb2gray(image_sample)\n",
        "\n",
        "    # Extract LBP image\n",
        "    lbp_img = local_binary_pattern(image_gray, P=8, R=1, method='uniform')\n",
        "\n",
        "    # Histogram with 59 bins for 'uniform' patterns\n",
        "    hist, _ = np.histogram(lbp_img.ravel(), bins=np.arange(0, 60), range=(0, 59))\n",
        "\n",
        "    # Normalize histogram\n",
        "    hist = hist.astype(\"float\")\n",
        "    hist /= (hist.sum() + 1e-6)\n",
        "\n",
        "    # Append to list\n",
        "    lbp_features_map.append(hist)\n"
      ],
      "metadata": {
        "colab": {
          "base_uri": "https://localhost:8080/"
        },
        "id": "MxRDN-zbsjMW",
        "outputId": "e6e365f7-efb4-4dcc-adb0-8e607b9b396a"
      },
      "execution_count": 8,
      "outputs": [
        {
          "output_type": "stream",
          "name": "stderr",
          "text": [
            "/usr/local/lib/python3.11/dist-packages/skimage/feature/texture.py:385: UserWarning: Applying `local_binary_pattern` to floating-point images may give unexpected results when small numerical differences between adjacent pixels are present. It is recommended to use this function with images of integer dtype.\n",
            "  warnings.warn(\n"
          ]
        }
      ]
    },
    {
      "cell_type": "code",
      "source": [
        "import numpy as np\n",
        "import cv2\n",
        "\n",
        "def extract_gabor_features(img):\n",
        "    # Define Gabor kernels (different orientations and scales)\n",
        "    kernels = []\n",
        "    for theta in np.arange(0, np.pi, np.pi / 4):  # 4 orientations\n",
        "        for lamda in [2, 4]:  # 2 wavelengths\n",
        "            kernels.append(cv2.getGaborKernel((21, 21), 5.0, theta, lamda, 1.0, 0, ktype=cv2.CV_32F))\n",
        "\n",
        "    gabor_features = []\n",
        "    for kernel in kernels:\n",
        "        filtered_img = cv2.filter2D(img, cv2.CV_32F, kernel)\n",
        "        gabor_features.append(filtered_img.mean())\n",
        "\n",
        "    return np.array(gabor_features)\n",
        "\n",
        "gabor_features_map = []\n",
        "for i in range(99999):\n",
        "    img = np.squeeze(X_train_img[i, :, :, 0:3])\n",
        "    # Convert image to uint8 before color conversion\n",
        "    img = img.astype(np.uint8)\n",
        "    img_gray = cv2.cvtColor(img, cv2.COLOR_RGB2GRAY)  # Convert to grayscale\n",
        "    gabor_features = extract_gabor_features(img_gray)\n",
        "    gabor_features_map.append(gabor_features)\n",
        "\n",
        "gabor_features_map = np.array(gabor_features_map)"
      ],
      "metadata": {
        "id": "atXClcqXNbni"
      },
      "execution_count": 9,
      "outputs": []
    },
    {
      "cell_type": "code",
      "source": [
        "from skimage import color\n",
        "import cv2\n",
        "\n",
        "def extract_color_histogram(img, bins=16):\n",
        "    # Convert image to HSV color space\n",
        "    # Convert image to uint8 before color conversion\n",
        "    img = img.astype(np.uint8)\n",
        "    img_hsv = cv2.cvtColor(img, cv2.COLOR_RGB2HSV)\n",
        "\n",
        "    # Extract histograms for Hue, Saturation, and Value channels\n",
        "    hist_hue = cv2.calcHist([img_hsv], [0], None, [bins], [0, 256])\n",
        "    hist_saturation = cv2.calcHist([img_hsv], [1], None, [bins], [0, 256])\n",
        "    hist_value = cv2.calcHist([img_hsv], [2], None, [bins], [0, 256])\n",
        "\n",
        "    # Normalize histograms\n",
        "    hist_hue = hist_hue / hist_hue.sum()\n",
        "    hist_saturation = hist_saturation / hist_saturation.sum()\n",
        "    hist_value = hist_value / hist_value.sum()\n",
        "\n",
        "    # Concatenate histograms into a single feature vector\n",
        "    return np.concatenate([hist_hue.flatten(), hist_saturation.flatten(), hist_value.flatten()])\n",
        "\n",
        "color_histograms = []\n",
        "for i in range(99999):\n",
        "    img = np.squeeze(X_train_img[i, :, :, 0:3])\n",
        "    color_hist = extract_color_histogram(img)\n",
        "    color_histograms.append(color_hist)\n",
        "\n",
        "color_histograms = np.array(color_histograms)"
      ],
      "metadata": {
        "id": "e44bFwS2NUhE"
      },
      "execution_count": 10,
      "outputs": []
    },
    {
      "cell_type": "code",
      "source": [
        "combined_features_handcrafted = np.concatenate((hog_features_map, lbp_features_map), axis=1)\n"
      ],
      "metadata": {
        "id": "PW3sBDvK7HDp"
      },
      "execution_count": 11,
      "outputs": []
    },
    {
      "cell_type": "code",
      "source": [
        "combined_features_handcrafted_1 = np.concatenate((combined_features_handcrafted, color_histograms, gabor_features_map), axis=1)\n",
        "combined_features = combined_features_handcrafted_1"
      ],
      "metadata": {
        "id": "fK9p__z5NuTX"
      },
      "execution_count": 12,
      "outputs": []
    },
    {
      "cell_type": "markdown",
      "source": [
        "# Converting into GPU Arrays"
      ],
      "metadata": {
        "id": "1IaDnOR-RIvH"
      }
    },
    {
      "cell_type": "code",
      "source": [
        "\n",
        "# Convert to GPU arrays (if you want to use cuML)\n",
        "import cupy as cp\n",
        "X_train_f_gpu = cp.asarray(combined_features)\n",
        "Y_train_gpu = cp.asarray(Y_train)\n",
        "\n",
        "# Check the shape of the combined features\n",
        "print('Shape of combined features:', combined_features.shape)\n",
        "\n",
        "# Train-test split on GPU\n",
        "from cuml.model_selection import train_test_split\n",
        "X_train_f, X_test_f, y_train_f, y_test_f = train_test_split(X_train_f_gpu, Y_train_gpu, test_size=0.2, random_state=42)\n",
        "\n",
        "# Convert labels to single class (0, 1, 2, 3) for multi-class classification\n",
        "y_train_f = cp.argmax(y_train_f, axis=1)\n",
        "y_test_f = cp.argmax(y_test_f, axis=1)\n"
      ],
      "metadata": {
        "id": "tdTbdn-IPr5u",
        "colab": {
          "base_uri": "https://localhost:8080/"
        },
        "outputId": "5657f426-ab13-460d-82e8-b76789774e5d"
      },
      "execution_count": 13,
      "outputs": [
        {
          "output_type": "stream",
          "name": "stdout",
          "text": [
            "Shape of combined features: (99999, 259)\n"
          ]
        }
      ]
    },
    {
      "cell_type": "markdown",
      "source": [
        "# Training One vs One Model"
      ],
      "metadata": {
        "id": "6gcY5xgaRQqb"
      }
    },
    {
      "cell_type": "code",
      "source": [
        "# Train One-vs-One SVM using cuML\n",
        "from cuml.svm import SVC\n",
        "from sklearn.metrics import accuracy_score # Import accuracy_score\n",
        "from sklearn.metrics import classification_report # Import classification report\n",
        "\n",
        "# One-vs-One\n",
        "svm_ovo = SVC(kernel='linear')  # Removed decision_function_shape\n",
        "ts_ovo_train_start=time.time()\n",
        "svm_ovo.fit(X_train_f, y_train_f)\n",
        "ts_ovo_train_end=time.time()\n",
        "\n",
        "y_pred_ovo = svm_ovo.predict(X_test_f)\n",
        "ovo_accuracy = accuracy_score(y_test_f.get(), y_pred_ovo.get()) # Use .get() to convert to numpy array if needed\n",
        "print(\"OvO Accuracy:\", ovo_accuracy)"
      ],
      "metadata": {
        "id": "NV3mnrCtQUyv",
        "outputId": "8a946afa-6da5-4de7-c093-595a71c5c80d",
        "colab": {
          "base_uri": "https://localhost:8080/"
        }
      },
      "execution_count": 14,
      "outputs": [
        {
          "output_type": "stream",
          "name": "stdout",
          "text": [
            "[2025-04-27 21:28:00.891] [CUML] [warning] SVC with the linear kernel can be much faster using the specialized solver provided by LinearSVC. Consider switching to LinearSVC if tranining takes too long.\n",
            "OvO Accuracy: 0.9508475423771189\n"
          ]
        }
      ]
    },
    {
      "cell_type": "code",
      "source": [
        "print(\"Training Time for OVO:\",ts_ovo_train_end-ts_ovo_train_start,\"s\")"
      ],
      "metadata": {
        "colab": {
          "base_uri": "https://localhost:8080/"
        },
        "id": "vKW5s_ohH8gj",
        "outputId": "8e4204c6-38a2-440a-a1ac-fc8863f41c86"
      },
      "execution_count": 17,
      "outputs": [
        {
          "output_type": "stream",
          "name": "stdout",
          "text": [
            "Training Time for OVO: 797.8553941249847 s\n"
          ]
        }
      ]
    },
    {
      "cell_type": "code",
      "source": [
        "print(classification_report(y_test_f.get(), y_pred_ovo.get()))"
      ],
      "metadata": {
        "colab": {
          "base_uri": "https://localhost:8080/"
        },
        "id": "ujBxPG6nrfd2",
        "outputId": "ce50b551-cb60-49b7-848c-5368ea0197d9"
      },
      "execution_count": 18,
      "outputs": [
        {
          "output_type": "stream",
          "name": "stdout",
          "text": [
            "              precision    recall  f1-score   support\n",
            "\n",
            "           0       0.97      0.96      0.96      5153\n",
            "           1       0.95      0.96      0.95      4021\n",
            "           2       0.89      0.87      0.88      3624\n",
            "           3       0.97      0.98      0.97      7201\n",
            "\n",
            "    accuracy                           0.95     19999\n",
            "   macro avg       0.94      0.94      0.94     19999\n",
            "weighted avg       0.95      0.95      0.95     19999\n",
            "\n"
          ]
        }
      ]
    },
    {
      "cell_type": "markdown",
      "source": [
        "# Training One vs Rest Model"
      ],
      "metadata": {
        "id": "VYtC6ENMRZu6"
      }
    },
    {
      "cell_type": "code",
      "source": [
        "from cuml.svm import SVC, LinearSVC\n",
        "\n",
        "# --- OvR (Linear Kernel) ---\n",
        "svm_ovr = LinearSVC(multi_class='ovr')  # Explicit OvR\n",
        "ts_ovr_train_start=time.time()\n",
        "svm_ovr.fit(X_train_f, y_train_f)\n",
        "ts_ovr_train_end=time.time()\n",
        "y_pred_ovr = svm_ovr.predict(X_test_f)\n",
        "print(\"\\nOvR Results:\")\n",
        "print(classification_report(y_test_f.get(), y_pred_ovr.get()))\n",
        "print(\"OvR Accuracy:\", accuracy_score(y_test_f.get(), y_pred_ovr.get()))"
      ],
      "metadata": {
        "id": "8AXCZK3AMZhe",
        "outputId": "e0f15a13-7da4-40c1-c2b3-6c3d9927bf4c",
        "colab": {
          "base_uri": "https://localhost:8080/"
        }
      },
      "execution_count": 19,
      "outputs": [
        {
          "output_type": "stream",
          "name": "stdout",
          "text": [
            "[2025-04-27 21:42:13.207] [CUML] [warning] L-BFGS: max iterations reached\n",
            "[2025-04-27 21:42:13.208] [CUML] [warning] Maximum iterations reached before solver is converged. To increase model accuracy you can increase the number of iterations (max_iter) or improve the scaling of the input data.\n",
            "[2025-04-27 21:42:19.170] [CUML] [warning] L-BFGS: max iterations reached\n",
            "[2025-04-27 21:42:19.170] [CUML] [warning] Maximum iterations reached before solver is converged. To increase model accuracy you can increase the number of iterations (max_iter) or improve the scaling of the input data.\n",
            "\n",
            "OvR Results:\n",
            "              precision    recall  f1-score   support\n",
            "\n",
            "           0       0.95      0.95      0.95      5153\n",
            "           1       0.87      0.93      0.90      4021\n",
            "           2       0.82      0.77      0.80      3624\n",
            "           3       0.93      0.92      0.92      7201\n",
            "\n",
            "    accuracy                           0.90     19999\n",
            "   macro avg       0.89      0.89      0.89     19999\n",
            "weighted avg       0.90      0.90      0.90     19999\n",
            "\n",
            "OvR Accuracy: 0.9016950847542378\n"
          ]
        }
      ]
    },
    {
      "cell_type": "code",
      "source": [
        "print(\"Training Time for OVR:\",ts_ovr_train_end-ts_ovr_train_start,\"s\")"
      ],
      "metadata": {
        "colab": {
          "base_uri": "https://localhost:8080/"
        },
        "id": "VIH4oAp_IHnG",
        "outputId": "34bc012a-af8b-4f65-87ed-b926061fe384"
      },
      "execution_count": 20,
      "outputs": [
        {
          "output_type": "stream",
          "name": "stdout",
          "text": [
            "Training Time for OVR: 10.806057929992676 s\n"
          ]
        }
      ]
    },
    {
      "cell_type": "markdown",
      "source": [
        "# Saving the Model"
      ],
      "metadata": {
        "id": "o2JgoP_vRfBx"
      }
    },
    {
      "cell_type": "code",
      "source": [
        "import joblib  # or use pickle\n",
        "\n",
        "# Saving the OvO model\n",
        "joblib.dump(svm_ovo, 'svm_ovo_model.pkl')\n",
        "\n",
        "# Saving the OvR model\n",
        "joblib.dump(svm_ovr, 'svm_ovr_model.pkl')\n"
      ],
      "metadata": {
        "colab": {
          "base_uri": "https://localhost:8080/"
        },
        "id": "1RZNeC-tIQvK",
        "outputId": "c6f5df50-d948-4471-a587-957bb03cfefe"
      },
      "execution_count": 21,
      "outputs": [
        {
          "output_type": "execute_result",
          "data": {
            "text/plain": [
              "['svm_ovr_model.pkl']"
            ]
          },
          "metadata": {},
          "execution_count": 21
        }
      ]
    },
    {
      "cell_type": "markdown",
      "source": [
        "# Loading the saved model"
      ],
      "metadata": {
        "id": "5lZ8QxLlRs1G"
      }
    },
    {
      "cell_type": "code",
      "source": [
        "\n",
        "svm_ovo = joblib.load('/content/svm_ovo_model.pkl')\n",
        "svm_ovr = joblib.load('/content/svm_ovr_model.pkl')"
      ],
      "metadata": {
        "id": "ohR2PjGJWuAA"
      },
      "execution_count": 23,
      "outputs": []
    },
    {
      "cell_type": "markdown",
      "source": [
        "# GUI Implementation"
      ],
      "metadata": {
        "id": "Zuf7DxDGQ-q0"
      }
    },
    {
      "cell_type": "code",
      "source": [
        "import time\n",
        "import cv2\n",
        "import numpy as np\n",
        "import cupy as cp\n",
        "from skimage import color, transform\n",
        "from skimage.io import imread\n",
        "from skimage.feature import hog, local_binary_pattern\n",
        "import ipywidgets as widgets\n",
        "from IPython.display import display\n",
        "import matplotlib.pyplot as plt\n",
        "\n",
        "# Feature extraction functions\n",
        "def extract_gabor_features(img_gray):\n",
        "    kernels = []\n",
        "    for theta in np.arange(0, np.pi, np.pi / 4):\n",
        "        for lamda in [2, 4]:\n",
        "            kernels.append(cv2.getGaborKernel((21, 21), 5.0, theta, lamda, 1.0, 0, ktype=cv2.CV_32F))\n",
        "    gabor_features = []\n",
        "    for kernel in kernels:\n",
        "        filtered_img = cv2.filter2D(img_gray, cv2.CV_32F, kernel)\n",
        "        gabor_features.append(filtered_img.mean())\n",
        "    return np.array(gabor_features)\n",
        "\n",
        "def extract_color_histogram(img, bins=16):\n",
        "    img = img.astype(np.uint8)\n",
        "    img_hsv = cv2.cvtColor(img, cv2.COLOR_RGB2HSV)\n",
        "    hist_hue = cv2.calcHist([img_hsv], [0], None, [bins], [0, 256])\n",
        "    hist_saturation = cv2.calcHist([img_hsv], [1], None, [bins], [0, 256])\n",
        "    hist_value = cv2.calcHist([img_hsv], [2], None, [bins], [0, 256])\n",
        "    hist_hue /= (hist_hue.sum() + 1e-6)\n",
        "    hist_saturation /= (hist_saturation.sum() + 1e-6)\n",
        "    hist_value /= (hist_value.sum() + 1e-6)\n",
        "    return np.concatenate([hist_hue.flatten(), hist_saturation.flatten(), hist_value.flatten()])\n",
        "\n",
        "def process_image(uploaded):\n",
        "    # Read and preprocess image\n",
        "    content = next(iter(uploaded.values()))['content']\n",
        "    img = imread(content, plugin='imageio')\n",
        "\n",
        "    # Resize to (28, 28, 4)\n",
        "    img_resized = transform.resize(img, (28, 28, 4), anti_aliasing=True)\n",
        "    img_resized = (img_resized * 255).astype(np.uint8)\n",
        "\n",
        "    # Use only RGB channels for feature extraction\n",
        "    img_rgb = img_resized[:, :, :3]\n",
        "\n",
        "    # HOG Feature\n",
        "    gray = color.rgb2gray(img_rgb)\n",
        "    hog_feat = hog(gray, orientations=9, pixels_per_cell=(8,8), cells_per_block=(2,2), visualize=False)\n",
        "\n",
        "    # LBP Feature\n",
        "    lbp = local_binary_pattern(gray, P=8, R=1, method='uniform')\n",
        "    lbp_hist, _ = np.histogram(lbp, bins=np.arange(0, 60), range=(0, 59))\n",
        "    lbp_hist = lbp_hist.astype(float) / (lbp_hist.sum() + 1e-6)\n",
        "\n",
        "    # Color Histogram\n",
        "    color_hist = extract_color_histogram(img_rgb)\n",
        "\n",
        "    # Gabor Features\n",
        "    gray_gabor = cv2.cvtColor(img_rgb, cv2.COLOR_RGB2GRAY)\n",
        "    gabor_feat = extract_gabor_features(gray_gabor)\n",
        "\n",
        "    # Combine features\n",
        "    combined = np.concatenate([hog_feat, lbp_hist, color_hist, gabor_feat])\n",
        "    combined_gpu = cp.asarray(combined.reshape(1, -1))\n",
        "\n",
        "    classes = ['Barren Land', 'Trees', 'Grassland', 'Other']\n",
        "\n",
        "    # Predict with timing and probabilities\n",
        "    # OvO\n",
        "    start_ovo = time.time()\n",
        "    ovo_pred = svm_ovo.predict(combined_gpu).get()[0]\n",
        "    ovo_scores = svm_ovo.decision_function(combined_gpu).get()[0]  # [NEW]\n",
        "    end_ovo = time.time()\n",
        "\n",
        "    # OvR\n",
        "    start_ovr = time.time()\n",
        "    ovr_pred = svm_ovr.predict(combined_gpu).get()[0]\n",
        "    ovr_scores = svm_ovr.decision_function(combined_gpu).get()[0]  # [NEW]\n",
        "    end_ovr = time.time()\n",
        "\n",
        "    # Ensure proper rounding for class index\n",
        "    ovo_pred = int(round(ovo_pred))\n",
        "    ovr_pred = int(round(ovr_pred))\n",
        "\n",
        "    results = {\n",
        "        \"ovo_class\": classes[ovo_pred],\n",
        "        \"ovr_class\": classes[ovr_pred],\n",
        "        \"ovo_scores\": ovo_scores,\n",
        "        \"ovr_scores\": ovr_scores,\n",
        "        \"ovo_time\": end_ovo - start_ovo,\n",
        "        \"ovr_time\": end_ovr - start_ovr,\n",
        "        \"classes\": classes\n",
        "    }\n",
        "    return results\n",
        "\n",
        "# GUI Components with improved styling\n",
        "upload = widgets.FileUpload(\n",
        "    accept='image/*',\n",
        "    multiple=False,\n",
        "    description='Upload Image:',\n",
        "    style={'description_width': 'initial'},\n",
        "    layout=widgets.Layout(width='auto', margin='5px')\n",
        ")\n",
        "\n",
        "button = widgets.Button(\n",
        "    description=\"Analyze Image\",\n",
        "    button_style='success',\n",
        "    icon='check',\n",
        "    layout=widgets.Layout(width='200px', margin='5px')\n",
        ")\n",
        "\n",
        "output = widgets.Output(layout={'border': '1px solid silver', 'margin': '5px'})\n",
        "\n",
        "header = widgets.HTML(\n",
        "    value=\"<h2 style='color: #2B547E; text-align: center;'>Land Cover Classifier</h2>\"\n",
        ")\n",
        "\n",
        "style = \"\"\"\n",
        "<style>\n",
        ".widget-label { font-weight: bold !important; color: #2B547E !important; }\n",
        "</style>\n",
        "\"\"\"\n",
        "display(widgets.HTML(style))\n",
        "\n",
        "def on_click(b):\n",
        "    with output:\n",
        "        output.clear_output()\n",
        "        if upload.value:\n",
        "            # Display uploaded image\n",
        "            print(\"Uploaded Image:\")\n",
        "            content = next(iter(upload.value.values()))['content']\n",
        "            img = imread(content, plugin='imageio')\n",
        "            plt.figure(figsize=(4,4))\n",
        "            plt.imshow(img)\n",
        "            plt.axis('off')\n",
        "            plt.show()\n",
        "\n",
        "            # Show processing message\n",
        "            display(widgets.HTML(\"<i style='color: #888;'>Analyzing image...</i>\"))\n",
        "\n",
        "            # Get predictions\n",
        "            results = process_image(upload.value)\n",
        "\n",
        "            # Clear processing message and display results\n",
        "            output.clear_output(wait=True)\n",
        "            print(\"Uploaded Image:\")\n",
        "            plt.figure(figsize=(4,4))\n",
        "            plt.imshow(img)\n",
        "            plt.axis('off')\n",
        "            plt.show()\n",
        "\n",
        "            # Display Predictions\n",
        "            display(widgets.HTML(\n",
        "                f\"<div style='margin-top: 10px;'>\"\n",
        "                f\"<h4 style='color: #2B547E;'>Analysis Results:</h4>\"\n",
        "                f\"<p><b>OvO Prediction:</b> <span style='color: #228B22;'>{results['ovo_class']}</span> \"\n",
        "                f\"(Time: {results['ovo_time']:.4f} sec)</p>\"\n",
        "                f\"<p><b>OvR Prediction:</b> <span style='color: #228B22;'>{results['ovr_class']}</span> \"\n",
        "                f\"(Time: {results['ovr_time']:.4f} sec)</p>\"\n",
        "                f\"<h5>Class Scores (OvO):</h5>\"\n",
        "                f\"<ul>\" +\n",
        "                \"\".join([f\"<li>{cls}: {score:.4f}</li>\" for cls, score in zip(results['classes'], results['ovo_scores'])]) +\n",
        "                f\"</ul>\"\n",
        "                f\"<h5>Class Scores (OvR):</h5>\"\n",
        "                f\"<ul>\" +\n",
        "                \"\".join([f\"<li>{cls}: {score:.4f}</li>\" for cls, score in zip(results['classes'], results['ovr_scores'])]) +\n",
        "                f\"</ul>\"\n",
        "                f\"</div>\"\n",
        "            ))\n",
        "        else:\n",
        "            display(widgets.HTML(\n",
        "                \"<div style='color: #FF0000; margin-top: 10px;'>\"\n",
        "                \"⚠️ Please upload an image first!\"\n",
        "                \"</div>\"\n",
        "            ))\n",
        "\n",
        "button.on_click(on_click)\n",
        "\n",
        "# Arrange components in layout\n",
        "controls = widgets.VBox(\n",
        "    [upload, button],\n",
        "    layout=widgets.Layout(\n",
        "        align_items='center',\n",
        "        padding='10px',\n",
        "        width='50%',\n",
        "        margin='0 auto'\n",
        "    )\n",
        ")\n",
        "\n",
        "app = widgets.VBox(\n",
        "    [header, controls, output],\n",
        "    layout=widgets.Layout(\n",
        "        width='70%',\n",
        "        margin='0 auto',\n",
        "        padding='20px',\n",
        "        box_shadow='0 2px 4px rgba(0,0,0,0.2)'\n",
        "    )\n",
        ")\n",
        "\n",
        "display(app)\n"
      ],
      "metadata": {
        "colab": {
          "base_uri": "https://localhost:8080/",
          "height": 959,
          "referenced_widgets": [
            "56ea84aa0dfe4890934a27071eb29f76",
            "dfe55c63b06b4d69afdf513c76e9b1b8",
            "6e3c9a36a7cb481c84fbd744c396ca01",
            "7ac2bb70743445b7988b32f68a7a2f4d",
            "905b71bbf5bf40f48f89a376d949b100",
            "f1743e689a8a4d0891851780769b4899",
            "293b105b75b24ab0bbc9e9b7b00988c6",
            "5c50aeb1d4da4252927833e7a99717f9",
            "46b90c6cc6ea4ac08317dbb4f1ee52bc",
            "d973d925581641979b8ce5531fb2579f",
            "d2bdc2a3447f4a1a953a2589aa69f4ff",
            "c2e8b6c8231642fb8c4587d934defc74",
            "dc096913ac2f4676aaf68074d90fc73f",
            "6de1b7d0360c44578b8916dd4026f471",
            "d938149280f9468daa3ba04e3da5c717",
            "baa17642747d4af5a863087e34322e09",
            "7cc81c25b22a438698e4f43d04d9b432",
            "23ef301288574cd98806de2cca1e63e4",
            "d7c62c1be66e421a9abcc2c751543610",
            "bf15b28881d5433aa85ed24cca48a144",
            "f63e4e89459d4ae4a31cbefbe42c6cc1",
            "f5f95e16dcd040c4a777891883808815",
            "28a4111ef1f346f9a9b5bdd7656036d6",
            "ed6677cd6e1f462b88366e65aebbb419",
            "42532be2fe3d49a3b9ab7f58582f9084",
            "13842df5ed1e4025bfa7e3f46cb56370",
            "2975972fc5914201a8cc10a0a812c7c8",
            "216785b8f4af45aca3f4854cc91f7181",
            "919f9bd7c0bf4fb48c8e457a176b4050",
            "1cf24fe0542940c6be3779acd828c6cd",
            "bff29921b0b5467f8fca79561cdc0d00",
            "70d54cf04db7490c916ce586184c504f",
            "556fc1e255cf44e19bcd2e0551659cb7",
            "029dc07a270547fda116014768644018",
            "b4dfd720673a40bdbe1c540b4924acb4",
            "e5015ee5adf74097b488831279a17a0d",
            "5ca5140a0ce14da99a26f4ac15467333",
            "afaece8ef7944be4994f2a0b4826f977",
            "b2603742416b4fc580cbb1ae91b5f48c",
            "13bc872417f1434f825d1d26616da293",
            "90bff9874d0f419594703cd4be2dcdea",
            "a61d36127c94457891edd47684942129"
          ]
        },
        "id": "QHFo415pJ_VV",
        "outputId": "8edf9234-6656-4525-c5b6-79d8bce2506f"
      },
      "execution_count": 30,
      "outputs": [
        {
          "output_type": "display_data",
          "data": {
            "text/plain": [
              "HTML(value='\\n<style>\\n.widget-label { font-weight: bold !important; color: #2B547E !important; }\\n</style>\\n'…"
            ],
            "application/vnd.jupyter.widget-view+json": {
              "version_major": 2,
              "version_minor": 0,
              "model_id": "56ea84aa0dfe4890934a27071eb29f76"
            }
          },
          "metadata": {}
        },
        {
          "output_type": "display_data",
          "data": {
            "text/plain": [
              "VBox(children=(HTML(value=\"<h2 style='color: #2B547E; text-align: center;'>Land Cover Classifier</h2>\"), VBox(…"
            ],
            "application/vnd.jupyter.widget-view+json": {
              "version_major": 2,
              "version_minor": 0,
              "model_id": "7ac2bb70743445b7988b32f68a7a2f4d"
            }
          },
          "metadata": {}
        }
      ]
    },
    {
      "cell_type": "code",
      "source": [],
      "metadata": {
        "id": "Me9ne262NqVi"
      },
      "execution_count": null,
      "outputs": []
    }
  ]
}
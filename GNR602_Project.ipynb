{
  "metadata": {
    "kernelspec": {
      "display_name": "Python 3",
      "name": "python3"
    },
    "language_info": {
      "pygments_lexer": "ipython3",
      "nbconvert_exporter": "python",
      "version": "3.6.4",
      "file_extension": ".py",
      "codemirror_mode": {
        "name": "ipython",
        "version": 3
      },
      "name": "python",
      "mimetype": "text/x-python"
    },
    "kaggle": {
      "accelerator": "none",
      "dataSources": [
        {
          "sourceId": 14231,
          "sourceType": "datasetVersion",
          "datasetId": 9970
        }
      ],
      "dockerImageVersionId": 648,
      "isInternetEnabled": false,
      "language": "python",
      "sourceType": "notebook",
      "isGpuEnabled": false
    },
    "colab": {
      "provenance": [],
      "gpuType": "T4",
      "include_colab_link": true
    },
    "accelerator": "GPU"
  },
  "nbformat_minor": 0,
  "nbformat": 4,
  "cells": [
    {
      "cell_type": "markdown",
      "metadata": {
        "id": "view-in-github",
        "colab_type": "text"
      },
      "source": [
        "<a href=\"https://colab.research.google.com/github/Harshanand7/GNR_602/blob/main/GNR602_Project.ipynb\" target=\"_parent\"><img src=\"https://colab.research.google.com/assets/colab-badge.svg\" alt=\"Open In Colab\"/></a>"
      ]
    },
    {
      "source": [
        "# IMPORTANT: RUN THIS CELL IN ORDER TO IMPORT YOUR KAGGLE DATA SOURCES,\n",
        "# THEN FEEL FREE TO DELETE THIS CELL.\n",
        "# NOTE: THIS NOTEBOOK ENVIRONMENT DIFFERS FROM KAGGLE'S PYTHON\n",
        "# ENVIRONMENT SO THERE MAY BE MISSING LIBRARIES USED BY YOUR\n",
        "# NOTEBOOK.\n",
        "import kagglehub\n",
        "crawford_deepsat_sat4_path = kagglehub.dataset_download('crawford/deepsat-sat4')\n",
        "\n",
        "print('Data source import complete.')\n"
      ],
      "metadata": {
        "id": "lfkmcXdQMM_k",
        "outputId": "6b184fb3-4088-4da0-ca4f-c560a29d125f",
        "colab": {
          "base_uri": "https://localhost:8080/"
        }
      },
      "cell_type": "code",
      "outputs": [
        {
          "output_type": "stream",
          "name": "stdout",
          "text": [
            "Data source import complete.\n"
          ]
        }
      ],
      "execution_count": null
    },
    {
      "cell_type": "code",
      "source": [
        "import numpy as np\n",
        "import pandas as pd\n",
        "import torch\n",
        "import torch.nn as nn\n",
        "import torchvision.models as models\n",
        "import torchvision.transforms as transforms\n",
        "from skimage.feature import hog, local_binary_pattern\n",
        "from sklearn.preprocessing import StandardScaler\n",
        "import cupy as cp\n",
        "from cuml.svm import SVC, LinearSVC\n",
        "from cuml.model_selection import train_test_split"
      ],
      "metadata": {
        "id": "42cn7_3S3V5j"
      },
      "execution_count": null,
      "outputs": []
    },
    {
      "cell_type": "code",
      "source": [
        "import os\n",
        "\n",
        "# Check the path\n",
        "print(\"Dataset path:\", crawford_deepsat_sat4_path)\n",
        "\n",
        "# List all files and folders in the dataset path\n",
        "print(\"Files:\", os.listdir(crawford_deepsat_sat4_path))\n"
      ],
      "metadata": {
        "id": "ylbnU5TIOTKq",
        "outputId": "99a05405-8966-4580-c5a6-8858d995105d",
        "colab": {
          "base_uri": "https://localhost:8080/"
        }
      },
      "execution_count": null,
      "outputs": [
        {
          "output_type": "stream",
          "name": "stdout",
          "text": [
            "Dataset path: /kaggle/input/deepsat-sat4\n",
            "Files: ['X_train_sat4.csv', 'X_test_sat4.csv', 'y_test_sat4.csv', 'y_train_sat4.csv', 'sat-4-full.mat', 'sat4annotations.csv']\n"
          ]
        }
      ]
    },
    {
      "cell_type": "code",
      "source": [
        "x_train_set_fpath = os.path.join(crawford_deepsat_sat4_path, 'X_test_sat4.csv')\n",
        "y_train_set_fpath = os.path.join(crawford_deepsat_sat4_path, 'y_test_sat4.csv')\n"
      ],
      "metadata": {
        "id": "vr3uSwq9OXHj"
      },
      "execution_count": null,
      "outputs": []
    },
    {
      "cell_type": "code",
      "source": [
        "import numpy as np  # linear algebra\n",
        "import pandas as pd  # data processing, CSV file I/O (e.g. pd.read_csv)\n",
        "import matplotlib.pyplot as plt  # visualize satellite images\n",
        "from skimage.io import imshow  # visualize satellite images\n",
        "from keras.layers import Dense, Conv2D, MaxPooling2D, Flatten, Dropout  # components of network\n",
        "from keras.models import Sequential  # type of model\n",
        "\n",
        "# Load your data\n",
        "\n",
        "\n",
        "print('Loading Training Data')\n",
        "X_train = pd.read_csv(x_train_set_fpath)\n",
        "print('Loaded 28 x 28 x 4 images')\n",
        "\n",
        "Y_train = pd.read_csv(y_train_set_fpath)\n",
        "print('Loaded labels')\n",
        "\n",
        "\n",
        "\n",
        "\n",
        "print('We have', X_train.shape[0], 'examples and each example is a list of', X_train.shape[1], 'numbers with', Y_train.shape[1], 'possible classifications.')\n",
        "\n",
        "# Reshape the images to 28x28x4\n",
        "X_train_img = X_train.values.reshape([99999, 28, 28, 4]).astype(float)\n",
        "print(X_train_img.shape)\n"
      ],
      "metadata": {
        "id": "kEKYr1-xPA_n",
        "colab": {
          "base_uri": "https://localhost:8080/"
        },
        "outputId": "5cbdcadc-66d5-4c3a-d8b8-b85012237c89"
      },
      "execution_count": null,
      "outputs": [
        {
          "output_type": "stream",
          "name": "stdout",
          "text": [
            "Loading Training Data\n"
          ]
        }
      ]
    },
    {
      "cell_type": "code",
      "source": [
        "import matplotlib.pyplot as plt\n",
        "from skimage import color\n",
        "from skimage.feature import hog\n",
        "\n",
        "# Visualizing one image\n",
        "ix = 200  # Type a number between 0 and 99,999 inclusive\n",
        "\n",
        "# Ensure the image is in a format that imshow can handle\n",
        "img = np.squeeze(X_train_img[ix, :, :, 0:3])  # Only RGB channels\n",
        "img = img / 255.0  # Ensure values are between 0 and 1 for proper display\n",
        "\n",
        "# Check if the image is in the correct format for plotting\n",
        "if img.shape[-1] == 3:  # Check if the image has 3 channels (RGB)\n",
        "    plt.imshow(img.astype(float))  # Cast the image to float for display\n",
        "    plt.axis('off')  # Optional: Hide axes for better visibility\n",
        "    plt.show()\n",
        "else:\n",
        "    print(\"Image format is incorrect. It may not have 3 channels.\")\n",
        "\n",
        "# Tells what the image is\n",
        "if Y_train.iloc[ix, 0] == 1:  # Use .iloc to access elements by integer index\n",
        "    print('Barren Land')\n",
        "elif Y_train.iloc[ix, 1] == 1:\n",
        "    print('Trees')\n",
        "elif Y_train.iloc[ix, 2] == 1:\n",
        "    print('Grassland')\n",
        "else:\n",
        "    print('Other')\n"
      ],
      "metadata": {
        "colab": {
          "base_uri": "https://localhost:8080/",
          "height": 424
        },
        "id": "TmjlzDn-Sio2",
        "outputId": "29c8fcae-4727-4025-86f6-230514cd920a"
      },
      "execution_count": null,
      "outputs": [
        {
          "output_type": "display_data",
          "data": {
            "text/plain": [
              "<Figure size 640x480 with 1 Axes>"
            ],
            "image/png": "[encoded data removed]"
          },
          "metadata": {}
        },
        {
          "output_type": "stream",
          "name": "stdout",
          "text": [
            "Trees\n"
          ]
        }
      ]
    },
    {
      "cell_type": "code",
      "source": [
        "from skimage import color\n",
        "from skimage.feature import hog\n",
        "\n",
        "hog_features_map = []\n",
        "for i in range(99999):\n",
        "    image_sample = np.squeeze(X_train_img[i, :, :, 0:3])\n",
        "    image_gray = color.rgb2gray(image_sample)\n",
        "    feature= hog(image_gray, orientations=9, pixels_per_cell=(8, 8), cells_per_block=(2, 2), visualize=False)\n",
        "    hog_features_map.append(feature)\n",
        "\n",
        "from sklearn.preprocessing import MinMaxScaler\n",
        "\n",
        "# Convert HOG feature map to a numpy array\n",
        "hog_features_map = np.array(hog_features_map)\n",
        "\n",
        "# Initialize a MinMaxScaler\n",
        "scaler = MinMaxScaler()\n",
        "\n",
        "# Fit the scaler and transform the features\n",
        "hog_features_normalized = scaler.fit_transform(hog_features_map)"
      ],
      "metadata": {
        "id": "U6FmuicV60e1"
      },
      "execution_count": null,
      "outputs": []
    },
    {
      "cell_type": "code",
      "source": [
        "from skimage.feature import local_binary_pattern\n",
        "\n",
        "lbp_features_map = []\n",
        "\n",
        "for i in range(99999):\n",
        "    image_sample = np.squeeze(X_train_img[i, :, :, 0:3])\n",
        "    image_gray = color.rgb2gray(image_sample)\n",
        "\n",
        "    # Extract LBP image\n",
        "    lbp_img = local_binary_pattern(image_gray, P=8, R=1, method='uniform')\n",
        "\n",
        "    # Histogram with 59 bins for 'uniform' patterns\n",
        "    hist, _ = np.histogram(lbp_img.ravel(), bins=np.arange(0, 60), range=(0, 59))\n",
        "\n",
        "    # Normalize histogram\n",
        "    hist = hist.astype(\"float\")\n",
        "    hist /= (hist.sum() + 1e-6)\n",
        "\n",
        "    # Append to list\n",
        "    lbp_features_map.append(hist)\n"
      ],
      "metadata": {
        "colab": {
          "base_uri": "https://localhost:8080/"
        },
        "id": "MxRDN-zbsjMW",
        "outputId": "1f042c8f-9d4f-4b07-e1bc-bfd8c44fda7b"
      },
      "execution_count": null,
      "outputs": [
        {
          "output_type": "stream",
          "name": "stderr",
          "text": [
            "/usr/local/lib/python3.11/dist-packages/skimage/feature/texture.py:385: UserWarning: Applying `local_binary_pattern` to floating-point images may give unexpected results when small numerical differences between adjacent pixels are present. It is recommended to use this function with images of integer dtype.\n",
            "  warnings.warn(\n"
          ]
        }
      ]
    },
    {
      "cell_type": "code",
      "source": [
        "import numpy as np\n",
        "import cv2\n",
        "\n",
        "def extract_gabor_features(img):\n",
        "    # Define Gabor kernels (different orientations and scales)\n",
        "    kernels = []\n",
        "    for theta in np.arange(0, np.pi, np.pi / 4):  # 4 orientations\n",
        "        for lamda in [2, 4]:  # 2 wavelengths\n",
        "            kernels.append(cv2.getGaborKernel((21, 21), 5.0, theta, lamda, 1.0, 0, ktype=cv2.CV_32F))\n",
        "\n",
        "    gabor_features = []\n",
        "    for kernel in kernels:\n",
        "        filtered_img = cv2.filter2D(img, cv2.CV_32F, kernel)\n",
        "        gabor_features.append(filtered_img.mean())\n",
        "\n",
        "    return np.array(gabor_features)\n",
        "\n",
        "gabor_features_map = []\n",
        "for i in range(99999):\n",
        "    img = np.squeeze(X_train_img[i, :, :, 0:3])\n",
        "    # Convert image to uint8 before color conversion\n",
        "    img = img.astype(np.uint8)\n",
        "    img_gray = cv2.cvtColor(img, cv2.COLOR_RGB2GRAY)  # Convert to grayscale\n",
        "    gabor_features = extract_gabor_features(img_gray)\n",
        "    gabor_features_map.append(gabor_features)\n",
        "\n",
        "gabor_features_map = np.array(gabor_features_map)"
      ],
      "metadata": {
        "id": "atXClcqXNbni"
      },
      "execution_count": null,
      "outputs": []
    },
    {
      "cell_type": "code",
      "source": [
        "from skimage import color\n",
        "import cv2\n",
        "\n",
        "def extract_color_histogram(img, bins=16):\n",
        "    # Convert image to HSV color space\n",
        "    # Convert image to uint8 before color conversion\n",
        "    img = img.astype(np.uint8)\n",
        "    img_hsv = cv2.cvtColor(img, cv2.COLOR_RGB2HSV)\n",
        "\n",
        "    # Extract histograms for Hue, Saturation, and Value channels\n",
        "    hist_hue = cv2.calcHist([img_hsv], [0], None, [bins], [0, 256])\n",
        "    hist_saturation = cv2.calcHist([img_hsv], [1], None, [bins], [0, 256])\n",
        "    hist_value = cv2.calcHist([img_hsv], [2], None, [bins], [0, 256])\n",
        "\n",
        "    # Normalize histograms\n",
        "    hist_hue = hist_hue / hist_hue.sum()\n",
        "    hist_saturation = hist_saturation / hist_saturation.sum()\n",
        "    hist_value = hist_value / hist_value.sum()\n",
        "\n",
        "    # Concatenate histograms into a single feature vector\n",
        "    return np.concatenate([hist_hue.flatten(), hist_saturation.flatten(), hist_value.flatten()])\n",
        "\n",
        "color_histograms = []\n",
        "for i in range(99999):\n",
        "    img = np.squeeze(X_train_img[i, :, :, 0:3])\n",
        "    color_hist = extract_color_histogram(img)\n",
        "    color_histograms.append(color_hist)\n",
        "\n",
        "color_histograms = np.array(color_histograms)"
      ],
      "metadata": {
        "id": "e44bFwS2NUhE"
      },
      "execution_count": null,
      "outputs": []
    },
    {
      "cell_type": "code",
      "source": [
        "combined_features_handcrafted = np.concatenate((hog_features_map, lbp_features_map), axis=1)\n"
      ],
      "metadata": {
        "id": "PW3sBDvK7HDp"
      },
      "execution_count": null,
      "outputs": []
    },
    {
      "cell_type": "code",
      "source": [
        "combined_features_handcrafted_1 = np.concatenate((combined_features_handcrafted, color_histograms, gabor_features_map), axis=1)\n",
        "combined_features = combined_features_handcrafted_1"
      ],
      "metadata": {
        "id": "fK9p__z5NuTX"
      },
      "execution_count": null,
      "outputs": []
    },
    {
      "cell_type": "code",
      "source": [
        "\n",
        "# Convert to GPU arrays (if you want to use cuML)\n",
        "import cupy as cp\n",
        "X_train_f_gpu = cp.asarray(combined_features)\n",
        "Y_train_gpu = cp.asarray(Y_train)\n",
        "\n",
        "# Check the shape of the combined features\n",
        "print('Shape of combined features:', combined_features.shape)\n",
        "\n",
        "# Train-test split on GPU\n",
        "from cuml.model_selection import train_test_split\n",
        "X_train_f, X_test_f, y_train_f, y_test_f = train_test_split(X_train_f_gpu, Y_train_gpu, test_size=0.2, random_state=42)\n",
        "\n",
        "# Convert labels to single class (0, 1, 2, 3) for multi-class classification\n",
        "y_train_f = cp.argmax(y_train_f, axis=1)\n",
        "y_test_f = cp.argmax(y_test_f, axis=1)\n"
      ],
      "metadata": {
        "id": "tdTbdn-IPr5u",
        "colab": {
          "base_uri": "https://localhost:8080/"
        },
        "outputId": "84fd13d7-3283-4097-b79d-5ce9b021a239"
      },
      "execution_count": null,
      "outputs": [
        {
          "output_type": "stream",
          "name": "stdout",
          "text": [
            "Shape of combined features: (99999, 259)\n"
          ]
        }
      ]
    },
    {
      "cell_type": "code",
      "source": [
        "# Train One-vs-One SVM using cuML\n",
        "from cuml.svm import SVC\n",
        "from sklearn.metrics import accuracy_score # Import accuracy_score\n",
        "from sklearn.metrics import classification_report # Import classification report\n",
        "\n",
        "# One-vs-One\n",
        "svm_ovo = SVC(kernel='linear')  # Removed decision_function_shape\n",
        "svm_ovo.fit(X_train_f, y_train_f)\n",
        "y_pred_ovo = svm_ovo.predict(X_test_f)\n",
        "ovo_accuracy = accuracy_score(y_test_f.get(), y_pred_ovo.get()) # Use .get() to convert to numpy array if needed\n",
        "print(\"OvO Accuracy:\", ovo_accuracy)"
      ],
      "metadata": {
        "id": "NV3mnrCtQUyv",
        "outputId": "c2e662ee-b4d9-4513-aea2-09c4ed4a33e0",
        "colab": {
          "base_uri": "https://localhost:8080/"
        }
      },
      "execution_count": null,
      "outputs": [
        {
          "output_type": "stream",
          "name": "stdout",
          "text": [
            "[2025-04-26 22:51:54.690] [CUML] [warning] SVC with the linear kernel can be much faster using the specialized solver provided by LinearSVC. Consider switching to LinearSVC if tranining takes too long.\n",
            "OvO Accuracy: 0.9508475423771189\n"
          ]
        }
      ]
    },
    {
      "cell_type": "code",
      "source": [
        "print(classification_report(y_test_f.get(), y_pred_ovo.get()))"
      ],
      "metadata": {
        "colab": {
          "base_uri": "https://localhost:8080/"
        },
        "id": "ujBxPG6nrfd2",
        "outputId": "f94ae288-a5fc-4262-a657-4d813c5d3293"
      },
      "execution_count": null,
      "outputs": [
        {
          "output_type": "stream",
          "name": "stdout",
          "text": [
            "              precision    recall  f1-score   support\n",
            "\n",
            "           0       0.97      0.96      0.96      5153\n",
            "           1       0.95      0.96      0.95      4021\n",
            "           2       0.89      0.87      0.88      3624\n",
            "           3       0.97      0.98      0.97      7201\n",
            "\n",
            "    accuracy                           0.95     19999\n",
            "   macro avg       0.94      0.94      0.94     19999\n",
            "weighted avg       0.95      0.95      0.95     19999\n",
            "\n"
          ]
        }
      ]
    },
    {
      "cell_type": "code",
      "source": [
        "from cuml.svm import SVC, LinearSVC\n",
        "\n",
        "# --- OvR (Linear Kernel) ---\n",
        "svm_ovr = LinearSVC(multi_class='ovr')  # Explicit OvR\n",
        "svm_ovr.fit(X_train_f, y_train_f)\n",
        "y_pred_ovr = svm_ovr.predict(X_test_f)\n",
        "print(\"\\nOvR Results:\")\n",
        "print(classification_report(y_test_f.get(), y_pred_ovr.get()))\n",
        "print(\"OvR Accuracy:\", accuracy_score(y_test_f.get(), y_pred_ovr.get()))"
      ],
      "metadata": {
        "id": "8AXCZK3AMZhe",
        "outputId": "06d51111-0bbe-4bf3-a7e1-a50d15fb6781",
        "colab": {
          "base_uri": "https://localhost:8080/"
        }
      },
      "execution_count": null,
      "outputs": [
        {
          "output_type": "stream",
          "name": "stdout",
          "text": [
            "[2025-04-26 23:05:24.817] [CUML] [warning] L-BFGS: max iterations reached\n",
            "[2025-04-26 23:05:24.817] [CUML] [warning] Maximum iterations reached before solver is converged. To increase model accuracy you can increase the number of iterations (max_iter) or improve the scaling of the input data.\n",
            "[2025-04-26 23:05:29.927] [CUML] [warning] L-BFGS: max iterations reached\n",
            "[2025-04-26 23:05:29.927] [CUML] [warning] Maximum iterations reached before solver is converged. To increase model accuracy you can increase the number of iterations (max_iter) or improve the scaling of the input data.\n",
            "\n",
            "OvR Results:\n",
            "              precision    recall  f1-score   support\n",
            "\n",
            "           0       0.95      0.95      0.95      5153\n",
            "           1       0.88      0.93      0.91      4021\n",
            "           2       0.85      0.79      0.82      3624\n",
            "           3       0.93      0.93      0.93      7201\n",
            "\n",
            "    accuracy                           0.91     19999\n",
            "   macro avg       0.90      0.90      0.90     19999\n",
            "weighted avg       0.91      0.91      0.91     19999\n",
            "\n",
            "OvR Accuracy: 0.912045602280114\n"
          ]
        }
      ]
    },
    {
      "cell_type": "code",
      "source": [
        "import joblib  # or use pickle\n",
        "\n",
        "# Saving the OvO model\n",
        "joblib.dump(svm_ovo, 'svm_ovo_model.pkl')\n",
        "\n",
        "# Saving the OvR model\n",
        "joblib.dump(svm_ovr, 'svm_ovr_model.pkl')\n"
      ],
      "metadata": {
        "colab": {
          "base_uri": "https://localhost:8080/"
        },
        "id": "1RZNeC-tIQvK",
        "outputId": "dd7b71db-c5c6-4271-8098-b734c66fed00"
      },
      "execution_count": null,
      "outputs": [
        {
          "output_type": "execute_result",
          "data": {
            "text/plain": [
              "['svm_ovr_model.pkl']"
            ]
          },
          "metadata": {},
          "execution_count": 19
        }
      ]
    },
    {
      "cell_type": "markdown",
      "source": [
        "# GUI Implementation"
      ],
      "metadata": {
        "id": "_RO0S8FfKREa"
      }
    },
    {
      "cell_type": "code",
      "source": [
        "import ipywidgets as widgets  # This line imports the ipywidgets library and makes it accessible using the alias \"widgets\".\n",
        "import numpy as np\n",
        "from IPython.display import display\n",
        "from skimage.io import imread\n",
        "from skimage import color, transform\n",
        "from skimage.feature import hog, local_binary_pattern\n",
        "import cv2\n",
        "from cuml.svm import SVC, LinearSVC\n",
        "import cupy as cp\n",
        "from cuml.svm import SVC, LinearSVC # This ensures that the SVC class is imported and available in the current scope.\n",
        "import joblib"
      ],
      "metadata": {
        "colab": {
          "base_uri": "https://localhost:8080/"
        },
        "id": "bYkXR4jyKQqP",
        "outputId": "466dd677-a77f-40e9-ef0f-3ae022cd412a"
      },
      "execution_count": 1,
      "outputs": [
        {
          "output_type": "stream",
          "name": "stderr",
          "text": [
            "/usr/local/lib/python3.11/dist-packages/cudf/utils/_ptxcompiler.py:64: UserWarning: Error getting driver and runtime versions:\n",
            "\n",
            "stdout:\n",
            "\n",
            "\n",
            "\n",
            "stderr:\n",
            "\n",
            "Traceback (most recent call last):\n",
            "  File \"<string>\", line 4, in <module>\n",
            "  File \"/usr/local/lib/python3.11/dist-packages/numba_cuda/numba/cuda/cudadrv/driver.py\", line 314, in __getattr__\n",
            "    raise CudaSupportError(\"Error at driver init: \\n%s:\" %\n",
            "numba.cuda.cudadrv.error.CudaSupportError: Error at driver init: \n",
            "\n",
            "CUDA driver library cannot be found.\n",
            "If you are sure that a CUDA driver is installed,\n",
            "try setting environment variable NUMBA_CUDA_DRIVER\n",
            "with the file path of the CUDA driver shared library.\n",
            ":\n",
            "\n",
            "\n",
            "Not patching Numba\n",
            "  warnings.warn(msg, UserWarning)\n",
            "/usr/local/lib/python3.11/dist-packages/cudf/utils/gpu_utils.py:62: UserWarning: Failed to dlopen libcuda.so.1\n",
            "  warnings.warn(str(e))\n"
          ]
        }
      ]
    },
    {
      "cell_type": "code",
      "source": [
        "from cuml.svm import SVC, LinearSVC # This ensures that the SVC class is imported and available in the current scope.\n",
        "import joblib\n",
        "import matplotlib.pyplot as plt\n",
        "svm_ovo = joblib.load('/content/svm_ovo_model.pkl')\n",
        "svm_ovr = joblib.load('/content/svm_ovr_model.pkl')"
      ],
      "metadata": {
        "id": "ohR2PjGJWuAA",
        "colab": {
          "base_uri": "https://localhost:8080/",
          "height": 918
        },
        "outputId": "42bc0f27-05a7-4892-8c2e-04c0c2e849f0"
      },
      "execution_count": 3,
      "outputs": [
        {
          "output_type": "error",
          "ename": "CUDARuntimeError",
          "evalue": "cudaErrorInsufficientDriver: CUDA driver version is insufficient for CUDA runtime version",
          "traceback": [
            "\u001b[0;31m---------------------------------------------------------------------------\u001b[0m",
            "\u001b[0;31mAttributeError\u001b[0m                            Traceback (most recent call last)",
            "\u001b[0;32mcupy/cuda/stream.pyx\u001b[0m in \u001b[0;36mcupy.cuda.stream._ThreadLocal.get\u001b[0;34m()\u001b[0m\n",
            "\u001b[0;31mAttributeError\u001b[0m: '_thread._local' object has no attribute 'tls'",
            "\nDuring handling of the above exception, another exception occurred:\n",
            "\u001b[0;31mCUDARuntimeError\u001b[0m                          Traceback (most recent call last)",
            "\u001b[0;32m<ipython-input-3-4bc582fae207>\u001b[0m in \u001b[0;36m<cell line: 0>\u001b[0;34m()\u001b[0m\n\u001b[1;32m      2\u001b[0m \u001b[0;32mimport\u001b[0m \u001b[0mjoblib\u001b[0m\u001b[0;34m\u001b[0m\u001b[0;34m\u001b[0m\u001b[0m\n\u001b[1;32m      3\u001b[0m \u001b[0;32mimport\u001b[0m \u001b[0mmatplotlib\u001b[0m\u001b[0;34m.\u001b[0m\u001b[0mpyplot\u001b[0m \u001b[0;32mas\u001b[0m \u001b[0mplt\u001b[0m\u001b[0;34m\u001b[0m\u001b[0;34m\u001b[0m\u001b[0m\n\u001b[0;32m----> 4\u001b[0;31m \u001b[0msvm_ovo\u001b[0m \u001b[0;34m=\u001b[0m \u001b[0mjoblib\u001b[0m\u001b[0;34m.\u001b[0m\u001b[0mload\u001b[0m\u001b[0;34m(\u001b[0m\u001b[0;34m'/content/svm_ovo_model.pkl'\u001b[0m\u001b[0;34m)\u001b[0m\u001b[0;34m\u001b[0m\u001b[0;34m\u001b[0m\u001b[0m\n\u001b[0m\u001b[1;32m      5\u001b[0m \u001b[0msvm_ovr\u001b[0m \u001b[0;34m=\u001b[0m \u001b[0mjoblib\u001b[0m\u001b[0;34m.\u001b[0m\u001b[0mload\u001b[0m\u001b[0;34m(\u001b[0m\u001b[0;34m'/content/svm_ovr_model.pkl'\u001b[0m\u001b[0;34m)\u001b[0m\u001b[0;34m\u001b[0m\u001b[0;34m\u001b[0m\u001b[0m\n",
            "\u001b[0;32m/usr/local/lib/python3.11/dist-packages/joblib/numpy_pickle.py\u001b[0m in \u001b[0;36mload\u001b[0;34m(filename, mmap_mode)\u001b[0m\n\u001b[1;32m    656\u001b[0m                     \u001b[0;32mreturn\u001b[0m \u001b[0mload_compatibility\u001b[0m\u001b[0;34m(\u001b[0m\u001b[0mfobj\u001b[0m\u001b[0;34m)\u001b[0m\u001b[0;34m\u001b[0m\u001b[0;34m\u001b[0m\u001b[0m\n\u001b[1;32m    657\u001b[0m \u001b[0;34m\u001b[0m\u001b[0m\n\u001b[0;32m--> 658\u001b[0;31m                 \u001b[0mobj\u001b[0m \u001b[0;34m=\u001b[0m \u001b[0m_unpickle\u001b[0m\u001b[0;34m(\u001b[0m\u001b[0mfobj\u001b[0m\u001b[0;34m,\u001b[0m \u001b[0mfilename\u001b[0m\u001b[0;34m,\u001b[0m \u001b[0mmmap_mode\u001b[0m\u001b[0;34m)\u001b[0m\u001b[0;34m\u001b[0m\u001b[0;34m\u001b[0m\u001b[0m\n\u001b[0m\u001b[1;32m    659\u001b[0m     \u001b[0;32mreturn\u001b[0m \u001b[0mobj\u001b[0m\u001b[0;34m\u001b[0m\u001b[0;34m\u001b[0m\u001b[0m\n",
            "\u001b[0;32m/usr/local/lib/python3.11/dist-packages/joblib/numpy_pickle.py\u001b[0m in \u001b[0;36m_unpickle\u001b[0;34m(fobj, filename, mmap_mode)\u001b[0m\n\u001b[1;32m    575\u001b[0m     \u001b[0mobj\u001b[0m \u001b[0;34m=\u001b[0m \u001b[0;32mNone\u001b[0m\u001b[0;34m\u001b[0m\u001b[0;34m\u001b[0m\u001b[0m\n\u001b[1;32m    576\u001b[0m     \u001b[0;32mtry\u001b[0m\u001b[0;34m:\u001b[0m\u001b[0;34m\u001b[0m\u001b[0;34m\u001b[0m\u001b[0m\n\u001b[0;32m--> 577\u001b[0;31m         \u001b[0mobj\u001b[0m \u001b[0;34m=\u001b[0m \u001b[0munpickler\u001b[0m\u001b[0;34m.\u001b[0m\u001b[0mload\u001b[0m\u001b[0;34m(\u001b[0m\u001b[0;34m)\u001b[0m\u001b[0;34m\u001b[0m\u001b[0;34m\u001b[0m\u001b[0m\n\u001b[0m\u001b[1;32m    578\u001b[0m         \u001b[0;32mif\u001b[0m \u001b[0munpickler\u001b[0m\u001b[0;34m.\u001b[0m\u001b[0mcompat_mode\u001b[0m\u001b[0;34m:\u001b[0m\u001b[0;34m\u001b[0m\u001b[0;34m\u001b[0m\u001b[0m\n\u001b[1;32m    579\u001b[0m             warnings.warn(\"The file '%s' has been generated with a \"\n",
            "\u001b[0;32m/usr/lib/python3.11/pickle.py\u001b[0m in \u001b[0;36mload\u001b[0;34m(self)\u001b[0m\n\u001b[1;32m   1211\u001b[0m                     \u001b[0;32mraise\u001b[0m \u001b[0mEOFError\u001b[0m\u001b[0;34m\u001b[0m\u001b[0;34m\u001b[0m\u001b[0m\n\u001b[1;32m   1212\u001b[0m                 \u001b[0;32massert\u001b[0m \u001b[0misinstance\u001b[0m\u001b[0;34m(\u001b[0m\u001b[0mkey\u001b[0m\u001b[0;34m,\u001b[0m \u001b[0mbytes_types\u001b[0m\u001b[0;34m)\u001b[0m\u001b[0;34m\u001b[0m\u001b[0;34m\u001b[0m\u001b[0m\n\u001b[0;32m-> 1213\u001b[0;31m                 \u001b[0mdispatch\u001b[0m\u001b[0;34m[\u001b[0m\u001b[0mkey\u001b[0m\u001b[0;34m[\u001b[0m\u001b[0;36m0\u001b[0m\u001b[0;34m]\u001b[0m\u001b[0;34m]\u001b[0m\u001b[0;34m(\u001b[0m\u001b[0mself\u001b[0m\u001b[0;34m)\u001b[0m\u001b[0;34m\u001b[0m\u001b[0;34m\u001b[0m\u001b[0m\n\u001b[0m\u001b[1;32m   1214\u001b[0m         \u001b[0;32mexcept\u001b[0m \u001b[0m_Stop\u001b[0m \u001b[0;32mas\u001b[0m \u001b[0mstopinst\u001b[0m\u001b[0;34m:\u001b[0m\u001b[0;34m\u001b[0m\u001b[0;34m\u001b[0m\u001b[0m\n\u001b[1;32m   1215\u001b[0m             \u001b[0;32mreturn\u001b[0m \u001b[0mstopinst\u001b[0m\u001b[0;34m.\u001b[0m\u001b[0mvalue\u001b[0m\u001b[0;34m\u001b[0m\u001b[0;34m\u001b[0m\u001b[0m\n",
            "\u001b[0;32m/usr/lib/python3.11/pickle.py\u001b[0m in \u001b[0;36mload_reduce\u001b[0;34m(self)\u001b[0m\n\u001b[1;32m   1588\u001b[0m         \u001b[0margs\u001b[0m \u001b[0;34m=\u001b[0m \u001b[0mstack\u001b[0m\u001b[0;34m.\u001b[0m\u001b[0mpop\u001b[0m\u001b[0;34m(\u001b[0m\u001b[0;34m)\u001b[0m\u001b[0;34m\u001b[0m\u001b[0;34m\u001b[0m\u001b[0m\n\u001b[1;32m   1589\u001b[0m         \u001b[0mfunc\u001b[0m \u001b[0;34m=\u001b[0m \u001b[0mstack\u001b[0m\u001b[0;34m[\u001b[0m\u001b[0;34m-\u001b[0m\u001b[0;36m1\u001b[0m\u001b[0;34m]\u001b[0m\u001b[0;34m\u001b[0m\u001b[0;34m\u001b[0m\u001b[0m\n\u001b[0;32m-> 1590\u001b[0;31m         \u001b[0mstack\u001b[0m\u001b[0;34m[\u001b[0m\u001b[0;34m-\u001b[0m\u001b[0;36m1\u001b[0m\u001b[0;34m]\u001b[0m \u001b[0;34m=\u001b[0m \u001b[0mfunc\u001b[0m\u001b[0;34m(\u001b[0m\u001b[0;34m*\u001b[0m\u001b[0margs\u001b[0m\u001b[0;34m)\u001b[0m\u001b[0;34m\u001b[0m\u001b[0;34m\u001b[0m\u001b[0m\n\u001b[0m\u001b[1;32m   1591\u001b[0m     \u001b[0mdispatch\u001b[0m\u001b[0;34m[\u001b[0m\u001b[0mREDUCE\u001b[0m\u001b[0;34m[\u001b[0m\u001b[0;36m0\u001b[0m\u001b[0;34m]\u001b[0m\u001b[0;34m]\u001b[0m \u001b[0;34m=\u001b[0m \u001b[0mload_reduce\u001b[0m\u001b[0;34m\u001b[0m\u001b[0;34m\u001b[0m\u001b[0m\n\u001b[1;32m   1592\u001b[0m \u001b[0;34m\u001b[0m\u001b[0m\n",
            "\u001b[0;32m/usr/local/lib/python3.11/dist-packages/cuml/internals/memory_utils.py\u001b[0m in \u001b[0;36mcupy_rmm_wrapper\u001b[0;34m(*args, **kwargs)\u001b[0m\n\u001b[1;32m     85\u001b[0m         \u001b[0;32mif\u001b[0m \u001b[0mGPU_ENABLED\u001b[0m\u001b[0;34m:\u001b[0m\u001b[0;34m\u001b[0m\u001b[0;34m\u001b[0m\u001b[0m\n\u001b[1;32m     86\u001b[0m             \u001b[0;32mwith\u001b[0m \u001b[0mcupy_using_allocator\u001b[0m\u001b[0;34m(\u001b[0m\u001b[0mrmm_cupy_allocator\u001b[0m\u001b[0;34m)\u001b[0m\u001b[0;34m:\u001b[0m\u001b[0;34m\u001b[0m\u001b[0;34m\u001b[0m\u001b[0m\n\u001b[0;32m---> 87\u001b[0;31m                 \u001b[0;32mreturn\u001b[0m \u001b[0mfunc\u001b[0m\u001b[0;34m(\u001b[0m\u001b[0;34m*\u001b[0m\u001b[0margs\u001b[0m\u001b[0;34m,\u001b[0m \u001b[0;34m**\u001b[0m\u001b[0mkwargs\u001b[0m\u001b[0;34m)\u001b[0m\u001b[0;34m\u001b[0m\u001b[0;34m\u001b[0m\u001b[0m\n\u001b[0m\u001b[1;32m     88\u001b[0m         \u001b[0;32mreturn\u001b[0m \u001b[0mfunc\u001b[0m\u001b[0;34m(\u001b[0m\u001b[0;34m*\u001b[0m\u001b[0margs\u001b[0m\u001b[0;34m,\u001b[0m \u001b[0;34m**\u001b[0m\u001b[0mkwargs\u001b[0m\u001b[0;34m)\u001b[0m\u001b[0;34m\u001b[0m\u001b[0;34m\u001b[0m\u001b[0m\n\u001b[1;32m     89\u001b[0m \u001b[0;34m\u001b[0m\u001b[0m\n",
            "\u001b[0;32m/usr/local/lib/python3.11/dist-packages/cuml/internals/array.py\u001b[0m in \u001b[0;36mhost_deserialize\u001b[0;34m(cls, header, frames)\u001b[0m\n\u001b[1;32m    730\u001b[0m     \u001b[0;32mdef\u001b[0m \u001b[0mhost_deserialize\u001b[0m\u001b[0;34m(\u001b[0m\u001b[0mcls\u001b[0m\u001b[0;34m,\u001b[0m \u001b[0mheader\u001b[0m\u001b[0;34m,\u001b[0m \u001b[0mframes\u001b[0m\u001b[0;34m)\u001b[0m\u001b[0;34m:\u001b[0m\u001b[0;34m\u001b[0m\u001b[0;34m\u001b[0m\u001b[0m\n\u001b[1;32m    731\u001b[0m         \u001b[0;32massert\u001b[0m \u001b[0mall\u001b[0m\u001b[0;34m(\u001b[0m\u001b[0;32mnot\u001b[0m \u001b[0mis_cuda\u001b[0m \u001b[0;32mfor\u001b[0m \u001b[0mis_cuda\u001b[0m \u001b[0;32min\u001b[0m \u001b[0mheader\u001b[0m\u001b[0;34m[\u001b[0m\u001b[0;34m\"is-cuda\"\u001b[0m\u001b[0;34m]\u001b[0m\u001b[0;34m)\u001b[0m\u001b[0;34m\u001b[0m\u001b[0;34m\u001b[0m\u001b[0m\n\u001b[0;32m--> 732\u001b[0;31m         \u001b[0mobj\u001b[0m \u001b[0;34m=\u001b[0m \u001b[0mcls\u001b[0m\u001b[0;34m.\u001b[0m\u001b[0mdeserialize\u001b[0m\u001b[0;34m(\u001b[0m\u001b[0mheader\u001b[0m\u001b[0;34m,\u001b[0m \u001b[0mframes\u001b[0m\u001b[0;34m)\u001b[0m\u001b[0;34m\u001b[0m\u001b[0;34m\u001b[0m\u001b[0m\n\u001b[0m\u001b[1;32m    733\u001b[0m         \u001b[0;32mreturn\u001b[0m \u001b[0mobj\u001b[0m\u001b[0;34m\u001b[0m\u001b[0;34m\u001b[0m\u001b[0m\n\u001b[1;32m    734\u001b[0m \u001b[0;34m\u001b[0m\u001b[0m\n",
            "\u001b[0;32m/usr/local/lib/python3.11/dist-packages/cuml/internals/memory_utils.py\u001b[0m in \u001b[0;36mcupy_rmm_wrapper\u001b[0;34m(*args, **kwargs)\u001b[0m\n\u001b[1;32m     85\u001b[0m         \u001b[0;32mif\u001b[0m \u001b[0mGPU_ENABLED\u001b[0m\u001b[0;34m:\u001b[0m\u001b[0;34m\u001b[0m\u001b[0;34m\u001b[0m\u001b[0m\n\u001b[1;32m     86\u001b[0m             \u001b[0;32mwith\u001b[0m \u001b[0mcupy_using_allocator\u001b[0m\u001b[0;34m(\u001b[0m\u001b[0mrmm_cupy_allocator\u001b[0m\u001b[0;34m)\u001b[0m\u001b[0;34m:\u001b[0m\u001b[0;34m\u001b[0m\u001b[0;34m\u001b[0m\u001b[0m\n\u001b[0;32m---> 87\u001b[0;31m                 \u001b[0;32mreturn\u001b[0m \u001b[0mfunc\u001b[0m\u001b[0;34m(\u001b[0m\u001b[0;34m*\u001b[0m\u001b[0margs\u001b[0m\u001b[0;34m,\u001b[0m \u001b[0;34m**\u001b[0m\u001b[0mkwargs\u001b[0m\u001b[0;34m)\u001b[0m\u001b[0;34m\u001b[0m\u001b[0;34m\u001b[0m\u001b[0m\n\u001b[0m\u001b[1;32m     88\u001b[0m         \u001b[0;32mreturn\u001b[0m \u001b[0mfunc\u001b[0m\u001b[0;34m(\u001b[0m\u001b[0;34m*\u001b[0m\u001b[0margs\u001b[0m\u001b[0;34m,\u001b[0m \u001b[0;34m**\u001b[0m\u001b[0mkwargs\u001b[0m\u001b[0;34m)\u001b[0m\u001b[0;34m\u001b[0m\u001b[0;34m\u001b[0m\u001b[0m\n\u001b[1;32m     89\u001b[0m \u001b[0;34m\u001b[0m\u001b[0m\n",
            "\u001b[0;32m/usr/local/lib/python3.11/dist-packages/cuml/internals/array.py\u001b[0m in \u001b[0;36mdeserialize\u001b[0;34m(cls, header, frames)\u001b[0m\n\u001b[1;32m    787\u001b[0m             )\n\u001b[1;32m    788\u001b[0m \u001b[0;34m\u001b[0m\u001b[0m\n\u001b[0;32m--> 789\u001b[0;31m         \u001b[0;32mreturn\u001b[0m \u001b[0mary\u001b[0m\u001b[0;34m.\u001b[0m\u001b[0mto_mem_type\u001b[0m\u001b[0;34m(\u001b[0m\u001b[0mGlobalSettings\u001b[0m\u001b[0;34m(\u001b[0m\u001b[0;34m)\u001b[0m\u001b[0;34m.\u001b[0m\u001b[0mmemory_type\u001b[0m\u001b[0;34m)\u001b[0m\u001b[0;34m\u001b[0m\u001b[0;34m\u001b[0m\u001b[0m\n\u001b[0m\u001b[1;32m    790\u001b[0m \u001b[0;34m\u001b[0m\u001b[0m\n\u001b[1;32m    791\u001b[0m     \u001b[0;32mdef\u001b[0m \u001b[0m__reduce_ex__\u001b[0m\u001b[0;34m(\u001b[0m\u001b[0mself\u001b[0m\u001b[0;34m,\u001b[0m \u001b[0mprotocol\u001b[0m\u001b[0;34m)\u001b[0m\u001b[0;34m:\u001b[0m\u001b[0;34m\u001b[0m\u001b[0;34m\u001b[0m\u001b[0m\n",
            "\u001b[0;32m/usr/local/lib/python3.11/dist-packages/cuml/internals/memory_utils.py\u001b[0m in \u001b[0;36mcupy_rmm_wrapper\u001b[0;34m(*args, **kwargs)\u001b[0m\n\u001b[1;32m     85\u001b[0m         \u001b[0;32mif\u001b[0m \u001b[0mGPU_ENABLED\u001b[0m\u001b[0;34m:\u001b[0m\u001b[0;34m\u001b[0m\u001b[0;34m\u001b[0m\u001b[0m\n\u001b[1;32m     86\u001b[0m             \u001b[0;32mwith\u001b[0m \u001b[0mcupy_using_allocator\u001b[0m\u001b[0;34m(\u001b[0m\u001b[0mrmm_cupy_allocator\u001b[0m\u001b[0;34m)\u001b[0m\u001b[0;34m:\u001b[0m\u001b[0;34m\u001b[0m\u001b[0;34m\u001b[0m\u001b[0m\n\u001b[0;32m---> 87\u001b[0;31m                 \u001b[0;32mreturn\u001b[0m \u001b[0mfunc\u001b[0m\u001b[0;34m(\u001b[0m\u001b[0;34m*\u001b[0m\u001b[0margs\u001b[0m\u001b[0;34m,\u001b[0m \u001b[0;34m**\u001b[0m\u001b[0mkwargs\u001b[0m\u001b[0;34m)\u001b[0m\u001b[0;34m\u001b[0m\u001b[0;34m\u001b[0m\u001b[0m\n\u001b[0m\u001b[1;32m     88\u001b[0m         \u001b[0;32mreturn\u001b[0m \u001b[0mfunc\u001b[0m\u001b[0;34m(\u001b[0m\u001b[0;34m*\u001b[0m\u001b[0margs\u001b[0m\u001b[0;34m,\u001b[0m \u001b[0;34m**\u001b[0m\u001b[0mkwargs\u001b[0m\u001b[0;34m)\u001b[0m\u001b[0;34m\u001b[0m\u001b[0;34m\u001b[0m\u001b[0m\n\u001b[1;32m     89\u001b[0m \u001b[0;34m\u001b[0m\u001b[0m\n",
            "\u001b[0;32m/usr/local/lib/python3.11/dist-packages/nvtx/nvtx.py\u001b[0m in \u001b[0;36minner\u001b[0;34m(*args, **kwargs)\u001b[0m\n\u001b[1;32m    120\u001b[0m         \u001b[0;32mdef\u001b[0m \u001b[0minner\u001b[0m\u001b[0;34m(\u001b[0m\u001b[0;34m*\u001b[0m\u001b[0margs\u001b[0m\u001b[0;34m,\u001b[0m \u001b[0;34m**\u001b[0m\u001b[0mkwargs\u001b[0m\u001b[0;34m)\u001b[0m\u001b[0;34m:\u001b[0m\u001b[0;34m\u001b[0m\u001b[0;34m\u001b[0m\u001b[0m\n\u001b[1;32m    121\u001b[0m             \u001b[0mlibnvtx_push_range\u001b[0m\u001b[0;34m(\u001b[0m\u001b[0mself\u001b[0m\u001b[0;34m.\u001b[0m\u001b[0mattributes\u001b[0m\u001b[0;34m,\u001b[0m \u001b[0mself\u001b[0m\u001b[0;34m.\u001b[0m\u001b[0mdomain\u001b[0m\u001b[0;34m.\u001b[0m\u001b[0mhandle\u001b[0m\u001b[0;34m)\u001b[0m\u001b[0;34m\u001b[0m\u001b[0;34m\u001b[0m\u001b[0m\n\u001b[0;32m--> 122\u001b[0;31m             \u001b[0mresult\u001b[0m \u001b[0;34m=\u001b[0m \u001b[0mfunc\u001b[0m\u001b[0;34m(\u001b[0m\u001b[0;34m*\u001b[0m\u001b[0margs\u001b[0m\u001b[0;34m,\u001b[0m \u001b[0;34m**\u001b[0m\u001b[0mkwargs\u001b[0m\u001b[0;34m)\u001b[0m\u001b[0;34m\u001b[0m\u001b[0;34m\u001b[0m\u001b[0m\n\u001b[0m\u001b[1;32m    123\u001b[0m             \u001b[0mlibnvtx_pop_range\u001b[0m\u001b[0;34m(\u001b[0m\u001b[0mself\u001b[0m\u001b[0;34m.\u001b[0m\u001b[0mdomain\u001b[0m\u001b[0;34m.\u001b[0m\u001b[0mhandle\u001b[0m\u001b[0;34m)\u001b[0m\u001b[0;34m\u001b[0m\u001b[0;34m\u001b[0m\u001b[0m\n\u001b[1;32m    124\u001b[0m             \u001b[0;32mreturn\u001b[0m \u001b[0mresult\u001b[0m\u001b[0;34m\u001b[0m\u001b[0;34m\u001b[0m\u001b[0m\n",
            "\u001b[0;32m/usr/local/lib/python3.11/dist-packages/cuml/internals/array.py\u001b[0m in \u001b[0;36mto_mem_type\u001b[0;34m(self, mem_type)\u001b[0m\n\u001b[1;32m    800\u001b[0m     \u001b[0;32mdef\u001b[0m \u001b[0mto_mem_type\u001b[0m\u001b[0;34m(\u001b[0m\u001b[0mself\u001b[0m\u001b[0;34m,\u001b[0m \u001b[0mmem_type\u001b[0m\u001b[0;34m)\u001b[0m\u001b[0;34m:\u001b[0m\u001b[0;34m\u001b[0m\u001b[0;34m\u001b[0m\u001b[0m\n\u001b[1;32m    801\u001b[0m         return self.__class__(\n\u001b[0;32m--> 802\u001b[0;31m             \u001b[0mdata\u001b[0m\u001b[0;34m=\u001b[0m\u001b[0mself\u001b[0m\u001b[0;34m.\u001b[0m\u001b[0mto_output\u001b[0m\u001b[0;34m(\u001b[0m\u001b[0;34m\"array\"\u001b[0m\u001b[0;34m,\u001b[0m \u001b[0moutput_mem_type\u001b[0m\u001b[0;34m=\u001b[0m\u001b[0mmem_type\u001b[0m\u001b[0;34m)\u001b[0m\u001b[0;34m,\u001b[0m\u001b[0;34m\u001b[0m\u001b[0;34m\u001b[0m\u001b[0m\n\u001b[0m\u001b[1;32m    803\u001b[0m             \u001b[0mindex\u001b[0m\u001b[0;34m=\u001b[0m\u001b[0mself\u001b[0m\u001b[0;34m.\u001b[0m\u001b[0mindex\u001b[0m\u001b[0;34m,\u001b[0m\u001b[0;34m\u001b[0m\u001b[0;34m\u001b[0m\u001b[0m\n\u001b[1;32m    804\u001b[0m             \u001b[0morder\u001b[0m\u001b[0;34m=\u001b[0m\u001b[0mself\u001b[0m\u001b[0;34m.\u001b[0m\u001b[0morder\u001b[0m\u001b[0;34m,\u001b[0m\u001b[0;34m\u001b[0m\u001b[0;34m\u001b[0m\u001b[0m\n",
            "\u001b[0;32m/usr/local/lib/python3.11/dist-packages/cuml/internals/memory_utils.py\u001b[0m in \u001b[0;36mcupy_rmm_wrapper\u001b[0;34m(*args, **kwargs)\u001b[0m\n\u001b[1;32m     85\u001b[0m         \u001b[0;32mif\u001b[0m \u001b[0mGPU_ENABLED\u001b[0m\u001b[0;34m:\u001b[0m\u001b[0;34m\u001b[0m\u001b[0;34m\u001b[0m\u001b[0m\n\u001b[1;32m     86\u001b[0m             \u001b[0;32mwith\u001b[0m \u001b[0mcupy_using_allocator\u001b[0m\u001b[0;34m(\u001b[0m\u001b[0mrmm_cupy_allocator\u001b[0m\u001b[0;34m)\u001b[0m\u001b[0;34m:\u001b[0m\u001b[0;34m\u001b[0m\u001b[0;34m\u001b[0m\u001b[0m\n\u001b[0;32m---> 87\u001b[0;31m                 \u001b[0;32mreturn\u001b[0m \u001b[0mfunc\u001b[0m\u001b[0;34m(\u001b[0m\u001b[0;34m*\u001b[0m\u001b[0margs\u001b[0m\u001b[0;34m,\u001b[0m \u001b[0;34m**\u001b[0m\u001b[0mkwargs\u001b[0m\u001b[0;34m)\u001b[0m\u001b[0;34m\u001b[0m\u001b[0;34m\u001b[0m\u001b[0m\n\u001b[0m\u001b[1;32m     88\u001b[0m         \u001b[0;32mreturn\u001b[0m \u001b[0mfunc\u001b[0m\u001b[0;34m(\u001b[0m\u001b[0;34m*\u001b[0m\u001b[0margs\u001b[0m\u001b[0;34m,\u001b[0m \u001b[0;34m**\u001b[0m\u001b[0mkwargs\u001b[0m\u001b[0;34m)\u001b[0m\u001b[0;34m\u001b[0m\u001b[0;34m\u001b[0m\u001b[0m\n\u001b[1;32m     89\u001b[0m \u001b[0;34m\u001b[0m\u001b[0m\n",
            "\u001b[0;32m/usr/local/lib/python3.11/dist-packages/nvtx/nvtx.py\u001b[0m in \u001b[0;36minner\u001b[0;34m(*args, **kwargs)\u001b[0m\n\u001b[1;32m    120\u001b[0m         \u001b[0;32mdef\u001b[0m \u001b[0minner\u001b[0m\u001b[0;34m(\u001b[0m\u001b[0;34m*\u001b[0m\u001b[0margs\u001b[0m\u001b[0;34m,\u001b[0m \u001b[0;34m**\u001b[0m\u001b[0mkwargs\u001b[0m\u001b[0;34m)\u001b[0m\u001b[0;34m:\u001b[0m\u001b[0;34m\u001b[0m\u001b[0;34m\u001b[0m\u001b[0m\n\u001b[1;32m    121\u001b[0m             \u001b[0mlibnvtx_push_range\u001b[0m\u001b[0;34m(\u001b[0m\u001b[0mself\u001b[0m\u001b[0;34m.\u001b[0m\u001b[0mattributes\u001b[0m\u001b[0;34m,\u001b[0m \u001b[0mself\u001b[0m\u001b[0;34m.\u001b[0m\u001b[0mdomain\u001b[0m\u001b[0;34m.\u001b[0m\u001b[0mhandle\u001b[0m\u001b[0;34m)\u001b[0m\u001b[0;34m\u001b[0m\u001b[0;34m\u001b[0m\u001b[0m\n\u001b[0;32m--> 122\u001b[0;31m             \u001b[0mresult\u001b[0m \u001b[0;34m=\u001b[0m \u001b[0mfunc\u001b[0m\u001b[0;34m(\u001b[0m\u001b[0;34m*\u001b[0m\u001b[0margs\u001b[0m\u001b[0;34m,\u001b[0m \u001b[0;34m**\u001b[0m\u001b[0mkwargs\u001b[0m\u001b[0;34m)\u001b[0m\u001b[0;34m\u001b[0m\u001b[0;34m\u001b[0m\u001b[0m\n\u001b[0m\u001b[1;32m    123\u001b[0m             \u001b[0mlibnvtx_pop_range\u001b[0m\u001b[0;34m(\u001b[0m\u001b[0mself\u001b[0m\u001b[0;34m.\u001b[0m\u001b[0mdomain\u001b[0m\u001b[0;34m.\u001b[0m\u001b[0mhandle\u001b[0m\u001b[0;34m)\u001b[0m\u001b[0;34m\u001b[0m\u001b[0;34m\u001b[0m\u001b[0m\n\u001b[1;32m    124\u001b[0m             \u001b[0;32mreturn\u001b[0m \u001b[0mresult\u001b[0m\u001b[0;34m\u001b[0m\u001b[0;34m\u001b[0m\u001b[0m\n",
            "\u001b[0;32m/usr/local/lib/python3.11/dist-packages/cuml/internals/array.py\u001b[0m in \u001b[0;36mto_output\u001b[0;34m(self, output_type, output_dtype, output_mem_type)\u001b[0m\n\u001b[1;32m    645\u001b[0m                     \u001b[0morder\u001b[0m\u001b[0;34m=\u001b[0m\u001b[0mself\u001b[0m\u001b[0;34m.\u001b[0m\u001b[0morder\u001b[0m\u001b[0;34m,\u001b[0m\u001b[0;34m\u001b[0m\u001b[0;34m\u001b[0m\u001b[0m\n\u001b[1;32m    646\u001b[0m                 )\n\u001b[0;32m--> 647\u001b[0;31m             return output_mem_type.xpy.asarray(\n\u001b[0m\u001b[1;32m    648\u001b[0m                 \u001b[0mself\u001b[0m\u001b[0;34m,\u001b[0m \u001b[0mdtype\u001b[0m\u001b[0;34m=\u001b[0m\u001b[0moutput_dtype\u001b[0m\u001b[0;34m,\u001b[0m \u001b[0morder\u001b[0m\u001b[0;34m=\u001b[0m\u001b[0mself\u001b[0m\u001b[0;34m.\u001b[0m\u001b[0morder\u001b[0m\u001b[0;34m\u001b[0m\u001b[0;34m\u001b[0m\u001b[0m\n\u001b[1;32m    649\u001b[0m             )\n",
            "\u001b[0;32m/usr/local/lib/python3.11/dist-packages/cupy/_creation/from_data.py\u001b[0m in \u001b[0;36masarray\u001b[0;34m(a, dtype, order, blocking)\u001b[0m\n\u001b[1;32m     86\u001b[0m \u001b[0;34m\u001b[0m\u001b[0m\n\u001b[1;32m     87\u001b[0m     \"\"\"\n\u001b[0;32m---> 88\u001b[0;31m     \u001b[0;32mreturn\u001b[0m \u001b[0m_core\u001b[0m\u001b[0;34m.\u001b[0m\u001b[0marray\u001b[0m\u001b[0;34m(\u001b[0m\u001b[0ma\u001b[0m\u001b[0;34m,\u001b[0m \u001b[0mdtype\u001b[0m\u001b[0;34m,\u001b[0m \u001b[0;32mFalse\u001b[0m\u001b[0;34m,\u001b[0m \u001b[0morder\u001b[0m\u001b[0;34m,\u001b[0m \u001b[0mblocking\u001b[0m\u001b[0;34m=\u001b[0m\u001b[0mblocking\u001b[0m\u001b[0;34m)\u001b[0m\u001b[0;34m\u001b[0m\u001b[0;34m\u001b[0m\u001b[0m\n\u001b[0m\u001b[1;32m     89\u001b[0m \u001b[0;34m\u001b[0m\u001b[0m\n\u001b[1;32m     90\u001b[0m \u001b[0;34m\u001b[0m\u001b[0m\n",
            "\u001b[0;32mcupy/_core/core.pyx\u001b[0m in \u001b[0;36mcupy._core.core.array\u001b[0;34m()\u001b[0m\n",
            "\u001b[0;32mcupy/_core/core.pyx\u001b[0m in \u001b[0;36mcupy._core.core.array\u001b[0;34m()\u001b[0m\n",
            "\u001b[0;32mcupy/_core/core.pyx\u001b[0m in \u001b[0;36mcupy._core.core._array_default\u001b[0;34m()\u001b[0m\n",
            "\u001b[0;32mcupy/_core/core.pyx\u001b[0m in \u001b[0;36mcupy._core.core.ndarray.__new__\u001b[0;34m()\u001b[0m\n",
            "\u001b[0;32mcupy/_core/core.pyx\u001b[0m in \u001b[0;36mcupy._core.core._ndarray_base._init\u001b[0;34m()\u001b[0m\n",
            "\u001b[0;32mcupy/cuda/memory.pyx\u001b[0m in \u001b[0;36mcupy.cuda.memory.alloc\u001b[0;34m()\u001b[0m\n",
            "\u001b[0;32m/usr/local/lib/python3.11/dist-packages/rmm/allocators/cupy.py\u001b[0m in \u001b[0;36mrmm_cupy_allocator\u001b[0;34m(nbytes)\u001b[0m\n\u001b[1;32m     34\u001b[0m         \u001b[0;32mraise\u001b[0m \u001b[0mModuleNotFoundError\u001b[0m\u001b[0;34m(\u001b[0m\u001b[0;34m\"No module named 'cupy'\"\u001b[0m\u001b[0;34m)\u001b[0m\u001b[0;34m\u001b[0m\u001b[0;34m\u001b[0m\u001b[0m\n\u001b[1;32m     35\u001b[0m \u001b[0;34m\u001b[0m\u001b[0m\n\u001b[0;32m---> 36\u001b[0;31m     \u001b[0mstream\u001b[0m \u001b[0;34m=\u001b[0m \u001b[0mStream\u001b[0m\u001b[0;34m(\u001b[0m\u001b[0mobj\u001b[0m\u001b[0;34m=\u001b[0m\u001b[0mcupy\u001b[0m\u001b[0;34m.\u001b[0m\u001b[0mcuda\u001b[0m\u001b[0;34m.\u001b[0m\u001b[0mget_current_stream\u001b[0m\u001b[0;34m(\u001b[0m\u001b[0;34m)\u001b[0m\u001b[0;34m)\u001b[0m\u001b[0;34m\u001b[0m\u001b[0;34m\u001b[0m\u001b[0m\n\u001b[0m\u001b[1;32m     37\u001b[0m     \u001b[0mbuf\u001b[0m \u001b[0;34m=\u001b[0m \u001b[0mpylibrmm\u001b[0m\u001b[0;34m.\u001b[0m\u001b[0mdevice_buffer\u001b[0m\u001b[0;34m.\u001b[0m\u001b[0mDeviceBuffer\u001b[0m\u001b[0;34m(\u001b[0m\u001b[0msize\u001b[0m\u001b[0;34m=\u001b[0m\u001b[0mnbytes\u001b[0m\u001b[0;34m,\u001b[0m \u001b[0mstream\u001b[0m\u001b[0;34m=\u001b[0m\u001b[0mstream\u001b[0m\u001b[0;34m)\u001b[0m\u001b[0;34m\u001b[0m\u001b[0;34m\u001b[0m\u001b[0m\n\u001b[1;32m     38\u001b[0m     \u001b[0mdev_id\u001b[0m \u001b[0;34m=\u001b[0m \u001b[0;34m-\u001b[0m\u001b[0;36m1\u001b[0m \u001b[0;32mif\u001b[0m \u001b[0mbuf\u001b[0m\u001b[0;34m.\u001b[0m\u001b[0mptr\u001b[0m \u001b[0;32melse\u001b[0m \u001b[0mcupy\u001b[0m\u001b[0;34m.\u001b[0m\u001b[0mcuda\u001b[0m\u001b[0;34m.\u001b[0m\u001b[0mdevice\u001b[0m\u001b[0;34m.\u001b[0m\u001b[0mget_device_id\u001b[0m\u001b[0;34m(\u001b[0m\u001b[0;34m)\u001b[0m\u001b[0;34m\u001b[0m\u001b[0;34m\u001b[0m\u001b[0m\n",
            "\u001b[0;32mcupy/cuda/stream.pyx\u001b[0m in \u001b[0;36mcupy.cuda.stream.get_current_stream\u001b[0;34m()\u001b[0m\n",
            "\u001b[0;32mcupy/cuda/stream.pyx\u001b[0m in \u001b[0;36mcupy.cuda.stream.get_current_stream\u001b[0;34m()\u001b[0m\n",
            "\u001b[0;32mcupy/cuda/stream.pyx\u001b[0m in \u001b[0;36mcupy.cuda.stream._ThreadLocal.get\u001b[0;34m()\u001b[0m\n",
            "\u001b[0;32mcupy/cuda/stream.pyx\u001b[0m in \u001b[0;36mcupy.cuda.stream._ThreadLocal.__init__\u001b[0;34m()\u001b[0m\n",
            "\u001b[0;32mcupy_backends/cuda/api/runtime.pyx\u001b[0m in \u001b[0;36mcupy_backends.cuda.api.runtime.getDeviceCount\u001b[0;34m()\u001b[0m\n",
            "\u001b[0;32mcupy_backends/cuda/api/runtime.pyx\u001b[0m in \u001b[0;36mcupy_backends.cuda.api.runtime.check_status\u001b[0;34m()\u001b[0m\n",
            "\u001b[0;31mCUDARuntimeError\u001b[0m: cudaErrorInsufficientDriver: CUDA driver version is insufficient for CUDA runtime version"
          ]
        }
      ]
    },
    {
      "cell_type": "code",
      "source": [
        "\n",
        "\n",
        "# Feature extraction functions (same as during training)\n",
        "def extract_gabor_features(img_gray):\n",
        "    kernels = []\n",
        "    for theta in np.arange(0, np.pi, np.pi / 4):\n",
        "        for lamda in [2, 4]:\n",
        "            kernels.append(cv2.getGaborKernel((21, 21), 5.0, theta, lamda, 1.0, 0, ktype=cv2.CV_32F))\n",
        "    gabor_features = []\n",
        "    for kernel in kernels:\n",
        "        filtered_img = cv2.filter2D(img_gray, cv2.CV_32F, kernel)\n",
        "        gabor_features.append(filtered_img.mean())\n",
        "    return np.array(gabor_features)\n",
        "\n",
        "def extract_color_histogram(img, bins=16):\n",
        "    img = img.astype(np.uint8)\n",
        "    img_hsv = cv2.cvtColor(img, cv2.COLOR_RGB2HSV)\n",
        "    hist_hue = cv2.calcHist([img_hsv], [0], None, [bins], [0, 256])\n",
        "    hist_saturation = cv2.calcHist([img_hsv], [1], None, [bins], [0, 256])\n",
        "    hist_value = cv2.calcHist([img_hsv], [2], None, [bins], [0, 256])\n",
        "    hist_hue /= (hist_hue.sum() + 1e-6)\n",
        "    hist_saturation /= (hist_saturation.sum() + 1e-6)\n",
        "    hist_value /= (hist_value.sum() + 1e-6)\n",
        "    return np.concatenate([hist_hue.flatten(), hist_saturation.flatten(), hist_value.flatten()])\n",
        "\n",
        "def process_image(uploaded):\n",
        "    # Read and preprocess image\n",
        "    content = next(iter(uploaded.values()))['content']\n",
        "    img = imread(content, plugin='imageio')\n",
        "\n",
        "    # Resize to (28, 28, 4)\n",
        "    img_resized = transform.resize(img, (28, 28, 4), anti_aliasing=True)\n",
        "    img_resized = (img_resized * 255).astype(np.uint8)\n",
        "\n",
        "    # Use only RGB channels for feature extraction\n",
        "    img_rgb = img_resized[:, :, :3]\n",
        "\n",
        "    # HOG Feature\n",
        "    gray = color.rgb2gray(img_rgb)  # Now rgb2gray will work fine\n",
        "    hog_feat = hog(gray, orientations=9, pixels_per_cell=(8,8), cells_per_block=(2,2), visualize=False)\n",
        "\n",
        "    # LBP Feature\n",
        "    lbp = local_binary_pattern(gray, P=8, R=1, method='uniform')\n",
        "    lbp_hist, _ = np.histogram(lbp, bins=np.arange(0, 60), range=(0, 59))\n",
        "    lbp_hist = lbp_hist.astype(float) / (lbp_hist.sum() + 1e-6)\n",
        "\n",
        "    # Color Histogram\n",
        "    color_hist = extract_color_histogram(img_rgb)  # Pass img_rgb here\n",
        "\n",
        "    # Gabor Features\n",
        "    gray_gabor = cv2.cvtColor(img_rgb, cv2.COLOR_RGB2GRAY)\n",
        "    gabor_feat = extract_gabor_features(gray_gabor)\n",
        "\n",
        "    # Combine features\n",
        "    combined = np.concatenate([hog_feat, lbp_hist, color_hist, gabor_feat])\n",
        "    combined_gpu = cp.asarray(combined.reshape(1, -1))\n",
        "\n",
        "    # Predict\n",
        "    ovo_pred = svm_ovo.predict(combined_gpu).get()[0]\n",
        "    ovr_pred = svm_ovr.predict(combined_gpu).get()[0]\n",
        "    ovo_pred = int(round(ovo_pred))\n",
        "    ovr_pred = int(round(ovr_pred))\n",
        "\n",
        "    classes = ['Barren Land', 'Trees', 'Grassland', 'Other']\n",
        "    return classes[ovo_pred], classes[ovr_pred]\n",
        "\n",
        "# GUI Components\n",
        "upload = widgets.FileUpload(accept='image/*', multiple=False)\n",
        "button = widgets.Button(description=\"Predict\")\n",
        "output = widgets.Output()\n",
        "\n"
      ],
      "metadata": {
        "id": "LkTP7z00Kn_a"
      },
      "execution_count": null,
      "outputs": []
    },
    {
      "cell_type": "code",
      "source": [
        "# Feature extraction functions (same as before)\n",
        "# ... [keep the feature extraction functions unchanged] ...\n",
        "\n",
        "# GUI Components with improved styling\n",
        "upload = widgets.FileUpload(\n",
        "    accept='image/*',\n",
        "    multiple=False,\n",
        "    description='Upload Image:',\n",
        "    style={'description_width': 'initial'},\n",
        "    layout=widgets.Layout(width='auto', margin='5px')\n",
        ")\n",
        "\n",
        "button = widgets.Button(\n",
        "    description=\"Analyze Image\",\n",
        "    button_style='success',\n",
        "    icon='check',\n",
        "    layout=widgets.Layout(width='200px', margin='5px')\n",
        ")\n",
        "\n",
        "output = widgets.Output(layout={'border': '1px solid silver', 'margin': '5px'})\n",
        "\n",
        "# Add header\n",
        "header = widgets.HTML(\n",
        "    value=\"<h2 style='color: #2B547E; text-align: center;'>Land Cover Classifier</h2>\"\n",
        ")\n",
        "\n",
        "# Add style decorations\n",
        "style = \"\"\"\n",
        "<style>\n",
        ".widget-label { font-weight: bold !important; color: #2B547E !important; }\n",
        "</style>\n",
        "\"\"\"\n",
        "display(widgets.HTML(style))\n",
        "def on_click(b):\n",
        "    with output:\n",
        "        output.clear_output()\n",
        "        if upload.value:\n",
        "            # Display uploaded image\n",
        "            print(\"Uploaded Image:\")\n",
        "            content = next(iter(upload.value.values()))['content']\n",
        "            img = imread(content, plugin='imageio')\n",
        "            plt.figure(figsize=(4,4))\n",
        "            plt.imshow(img)\n",
        "            plt.axis('off')\n",
        "            plt.show()\n",
        "\n",
        "            # Show processing message\n",
        "            display(widgets.HTML(\"<i style='color: #888;'>Analyzing image...</i>\"))\n",
        "\n",
        "            # Get predictions\n",
        "            ovo, ovr = process_image(upload.value)\n",
        "\n",
        "            # Clear processing message and display results\n",
        "            output.clear_output(wait=True)  # Keep previous content until new output is ready\n",
        "            print(\"Uploaded Image:\")\n",
        "            plt.figure(figsize=(4,4))\n",
        "            plt.imshow(img)\n",
        "            plt.axis('off')\n",
        "            plt.show()\n",
        "            display(widgets.HTML(\n",
        "                f\"<div style='margin-top: 10px;'>\"\n",
        "                f\"<h4 style='color: #2B547E;'>Analysis Results:</h4>\"\n",
        "                f\"<p style='margin-left: 20px;'><b>OvO Prediction:</b> <span style='color: #228B22;'>{ovo}</span></p>\"\n",
        "                f\"<p style='margin-left: 20px;'><b>OvR Prediction:</b> <span style='color: #228B22;'>{ovr}</span></p>\"\n",
        "                f\"</div>\"\n",
        "            ))\n",
        "        else:\n",
        "            display(widgets.HTML(\n",
        "                \"<div style='color: #FF0000; margin-top: 10px;'>\"\n",
        "                \"⚠️ Please upload an image first!\"\n",
        "                \"</div>\"\n",
        "            ))\n",
        "button.on_click(on_click)\n",
        "\n",
        "# Arrange components in layout\n",
        "controls = widgets.VBox(\n",
        "    [upload, button],\n",
        "    layout=widgets.Layout(\n",
        "        align_items='center',\n",
        "        padding='10px',\n",
        "        width='50%',\n",
        "        margin='0 auto'\n",
        "    )\n",
        ")\n",
        "\n",
        "app = widgets.VBox(\n",
        "    [header, controls, output],\n",
        "    layout=widgets.Layout(\n",
        "        width='70%',\n",
        "        margin='0 auto',\n",
        "        padding='20px',\n",
        "        box_shadow='0 2px 4px rgba(0,0,0,0.2)'\n",
        "    )\n",
        ")\n",
        "\n",
        "display(app)"
      ],
      "metadata": {
        "id": "fHQgMnANKq5z"
      },
      "execution_count": null,
      "outputs": []
    }
  ]
}